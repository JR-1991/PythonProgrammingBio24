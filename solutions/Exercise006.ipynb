{
 "cells": [
  {
   "cell_type": "markdown",
   "metadata": {
    "id": "YZyevmLCgYPB"
   },
   "source": [
    "# Exercise 006"
   ]
  },
  {
   "cell_type": "markdown",
   "metadata": {
    "id": "idtNqXkegYPD",
    "tags": []
   },
   "source": [
    "<a href=\"https://colab.research.google.com/github/FAIRChemistry/PythonProgrammingBio24/blob/main/solutions/Exercise006.ipynb\" target=\"_parent\"><img src=\"https://colab.research.google.com/assets/colab-badge.svg\" alt=\"Open In Colab\"/></a>"
   ]
  },
  {
   "cell_type": "code",
   "execution_count": null,
   "metadata": {
    "id": "gT8TQT1ZgZO6",
    "tags": []
   },
   "outputs": [],
   "source": [
    "# Please execute this cell to download the necessary data\n",
    "!wget https://raw.githubusercontent.com/JR-1991/PythonProgrammingBio24/main/data/all_sequences.fasta"
   ]
  },
  {
   "cell_type": "markdown",
   "metadata": {
    "id": "XbNx_QaHeEcR"
   },
   "source": [
    "# DNASequence class\n",
    "\n",
    "Read the FASTA file `all_sequences.fasta` and store header info and sequence in a suitable class. Make sure that at the initialization of the object, the following atrributes are present:\n",
    "\n",
    "* `id`\n",
    "* `organism`\n",
    "* `sequence`\n",
    "* `gc_content`\n",
    "* `length`\n",
    "\n",
    "**Tips**\n",
    "\n",
    "> * Your `__init__`-method arguments do not have to contain all expected attributes if you can derive them from another attribute. The `__init__`-method is a function and you can execute any code you want upon initialization. Make sure to assign your calculation to the appropriate attribute via `self.xyz`.\n",
    "> * [Dataclasses](https://docs.python.org/3/library/dataclasses.html) are a convinient way to create classes that simply hold data. You can make use of them to simplify the process due to the automatic generation of a `__init__`-method. But keep in mind that this excludes additional calculation you would have otherwise put into your custom `__init__`-method."
   ]
  },
  {
   "cell_type": "code",
   "execution_count": 4,
   "metadata": {
    "id": "yubzZtmteEcR",
    "tags": []
   },
   "outputs": [],
   "source": [
    "class DNASequence:\n",
    "    \n",
    "    def __init__(\n",
    "        self, # Refers to the object to create\n",
    "        sequence: str,\n",
    "        organism: str,\n",
    "        id: str\n",
    "    ):  \n",
    "        # \"External\" attributes\n",
    "        self.sequence = sequence.upper()\n",
    "        self.organism = organism\n",
    "        self.id = id\n",
    "        \n",
    "        # Calculated attributes\n",
    "        self.length = len(sequence)\n",
    "        self.gc_content = (self.sequence.count(\"G\") + self.sequence.count(\"C\")) / self.length"
   ]
  },
  {
   "cell_type": "code",
   "execution_count": 11,
   "metadata": {},
   "outputs": [],
   "source": [
    "def read_fasta(path: str) -> list[DNASequence]:\n",
    "    \"\"\"Reads a FASTA file and parses all entries into DNASequence objects\n",
    "    \n",
    "    Args:\n",
    "        path: Path to the FASTA file to parse\n",
    "    \n",
    "    Returns:\n",
    "        list[DNASequence]: Parsed sequences wrapped in DNASequence objects \n",
    "    \"\"\"\n",
    "    \n",
    "    sequences = []\n",
    "    data = open(path).readlines()\n",
    "    \n",
    "    for i, line in enumerate(data):\n",
    "        if not i % 2:\n",
    "            # Grab the header and continue\n",
    "            organism, id = line.lstrip(\">\").split(\"|\")\n",
    "            continue\n",
    "\n",
    "        obj = DNASequence(\n",
    "            sequence=line.strip(),\n",
    "            organism=organism.strip(),\n",
    "            id=id.strip(),\n",
    "        )\n",
    "        \n",
    "        sequences.append(obj)\n",
    "        \n",
    "    return sequences"
   ]
  },
  {
   "cell_type": "code",
   "execution_count": 13,
   "metadata": {
    "tags": []
   },
   "outputs": [
    {
     "data": {
      "text/plain": [
       "{'sequence': 'ATGCGTTCTCGCTATTTGTTACATCAATATTTTGTTCAGGTACAGTTTGCAGCGCCGTCGCCAGCGCCAACGGATTCCATGTCATATATTATTCCATATAGATTAAGTTTAAATATTAATAAAATGAATATTTGCAATACGTAATTATCTTACCAGCTATAGACAAAAAAAAACCATCCAAATCTGGATGGCTTTTCATAATTCAGAGGAACTAGCTGCGCTGACGAACCGCTTCAAATAAGCAAATTCCGGTTGCAACCGAAACGTTCAGGGAAGAAACACTTCCTGCCATTGGGATGCTGATCAACTCATCGCAATGTTCACGGGTCAGGCGACGCATACCTTCACCTTCCGCGCCCATCACCAGCGCCAGGCGTCCGGTCATTTTGCTTTGATAGAGCGTATGATCCGCCTCACCTGCCGTACCGACGATCCAGATATTCTCTTCCTGCAACATACGCATGGTGCGCGCAAGGTTAGTCACCCGAATCAGTGGAACGCTTTCTGCCGCGCCGCAGGCTACTTTTTTCGCCGTGGCGTTGAGCTGTGCGGAGCGATCTTTCGGCACAATCACCGCGTGAACGCCAGCAGCGTCCGCGCTACGCAGGCACGCGCCGAGGTTGTGCGGATCGGTTACACCGTCGAGGATCAGCAGGAACGGTTGATCGAGCGAAGCGATCAGATCCGGCAGATCGTTTTCCTGGTACTGACGTCCTGGCTTCACGCGGGCGATAATGCCCTGATGCACGGCACCGTCGCTTTTCTCGTCGAGATATTGGCGGTTTGCCAACTGGATAACCACGCCCTGGGACTCAAGGGCGTGGATCAGCGGTAACAGACGTTTATCTTCACGGCCTTTTAAAATAA',\n",
       " 'organism': 'ecoli',\n",
       " 'id': '1',\n",
       " 'length': 867,\n",
       " 'gc_content': 0.5074971164936563}"
      ]
     },
     "execution_count": 13,
     "metadata": {},
     "output_type": "execute_result"
    }
   ],
   "source": [
    "dna_sequences = read_fasta(\"./all_sequences.fasta\")\n",
    "\n",
    "# Check the content of the class using __dict__\n",
    "dna_sequences[0].__dict__"
   ]
  },
  {
   "cell_type": "markdown",
   "metadata": {
    "id": "2uND38-7eEcR"
   },
   "source": [
    "## Magic Methods - Alignment by `==`\n",
    "\n",
    "> This is an optional exercise\n",
    "\n",
    "Can you extend the class to output the identity between the two sequences (stored as an attribute) when the `==` comparison operator is used? Apply the implementation to two sequences that you have chosen and use the supplied `get_identity` function.\n",
    "\n",
    "Learn more about [Magic methods](https://realpython.com/python-magic-methods/)"
   ]
  },
  {
   "cell_type": "code",
   "execution_count": null,
   "metadata": {
    "tags": []
   },
   "outputs": [],
   "source": [
    "# Execute this cell to use all packages\n",
    "!pip install biopython\n",
    "\n",
    "from Bio import pairwise2\n",
    "\n",
    "def get_identity(seq1: str, seq2: str):\n",
    "    \"\"\"Aligns two sequences using BioPython\n",
    "    \n",
    "    Args:\n",
    "        seq1 (str): Query sequence to align to\n",
    "        seq2 (str): Target sequence to align with\n",
    "    \n",
    "    Returns:\n",
    "        float: Identity of the resulting alignment\n",
    "    \n",
    "    \"\"\"\n",
    "    return pairwise2.align.globalxx(seq1, seq2, score_only=True) / len(seq1)"
   ]
  },
  {
   "cell_type": "code",
   "execution_count": 18,
   "metadata": {
    "id": "X0cB0raLeEcS",
    "tags": []
   },
   "outputs": [],
   "source": [
    "class DNASequence:\n",
    "    \n",
    "    def __init__(\n",
    "        self, # Refers to the object to create\n",
    "        sequence: str,\n",
    "        organism: str,\n",
    "        id: str\n",
    "    ):  \n",
    "        # \"External\" attributes\n",
    "        self.sequence = sequence.upper()\n",
    "        self.organism = organism\n",
    "        self.id = id\n",
    "        \n",
    "        # Calculated attributes\n",
    "        self.length = len(sequence)\n",
    "        self.gc_content = ((self.sequence.count(\"G\") + self.sequence.count(\"C\")) / self.length)\n",
    "        \n",
    "    def __eq__(self, other):\n",
    "        \"\"\"Overrides the == operator and runs this method instead.\n",
    "        \n",
    "        We first check that the other object we want to align is of\n",
    "        the same type. If so, we will use the 'get_identity' function\n",
    "        to receive the percent identity of both sequences.\n",
    "        \"\"\"\n",
    "        \n",
    "        assert type(other) == type(self), (\n",
    "            f\"Only types of 'DNASequence' can be used for comparison. Got {type(other)}, which is invalid.\"\n",
    "        )\n",
    "        \n",
    "        return get_identity(self.sequence, other.sequence)"
   ]
  },
  {
   "cell_type": "code",
   "execution_count": 19,
   "metadata": {
    "tags": []
   },
   "outputs": [
    {
     "data": {
      "text/plain": [
       "0.780952380952381"
      ]
     },
     "execution_count": 19,
     "metadata": {},
     "output_type": "execute_result"
    }
   ],
   "source": [
    "dna_sequences = read_fasta(\"./all_sequences.fasta\")\n",
    "\n",
    "# Lets align two sequences\n",
    "dna_sequences[10] == dna_sequences[100]"
   ]
  }
 ],
 "metadata": {
  "colab": {
   "provenance": []
  },
  "kernelspec": {
   "display_name": "Python 3 (ipykernel)",
   "language": "python",
   "name": "python3"
  },
  "language_info": {
   "codemirror_mode": {
    "name": "ipython",
    "version": 3
   },
   "file_extension": ".py",
   "mimetype": "text/x-python",
   "name": "python",
   "nbconvert_exporter": "python",
   "pygments_lexer": "ipython3",
   "version": "3.11.5"
  }
 },
 "nbformat": 4,
 "nbformat_minor": 4
}
