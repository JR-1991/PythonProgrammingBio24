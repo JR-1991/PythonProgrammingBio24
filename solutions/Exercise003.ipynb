{
 "cells": [
  {
   "cell_type": "markdown",
   "metadata": {
    "id": "YZyevmLCgYPB"
   },
   "source": [
    "# Exercise 003"
   ]
  },
  {
   "cell_type": "markdown",
   "metadata": {
    "id": "idtNqXkegYPD",
    "tags": []
   },
   "source": [
    "<a href=\"https://colab.research.google.com/github/FAIRChemistry/PythonProgrammingBio24/blob/main/solutions/Exercise003.ipynb\" target=\"_parent\"><img src=\"https://colab.research.google.com/assets/colab-badge.svg\" alt=\"Open In Colab\"/></a>"
   ]
  },
  {
   "cell_type": "code",
   "execution_count": null,
   "metadata": {
    "id": "gT8TQT1ZgZO6",
    "tags": []
   },
   "outputs": [],
   "source": [
    "# Please execute this cell to download the necessary data\n",
    "!wget https://raw.githubusercontent.com/JR-1991/PythonProgrammingBio24/main/scripts/utils.py\n",
    "!wget https://raw.githubusercontent.com/JR-1991/PythonProgrammingBio24/main/data/all_sequences.fasta"
   ]
  },
  {
   "cell_type": "markdown",
   "metadata": {},
   "source": [
    "## Determination of sequences lengths"
   ]
  },
  {
   "cell_type": "markdown",
   "metadata": {},
   "source": [
    "Load the FASTA file `all_sequences.fasta` by using your own FASTA reader or `biopython` from the last exercise. Save all sequences in a list called `sequences` for the following exercises. Now determine the length of all sequences and store the result in a new list called `sequence_lengths`. Finally, print the lowest and highest value in this list."
   ]
  },
  {
   "cell_type": "code",
   "execution_count": 4,
   "metadata": {
    "tags": []
   },
   "outputs": [],
   "source": [
    "# Function definitions for this exercise to be re-used\n",
    "# within the Jupyter notebook\n",
    "\n",
    "def read_fasta(path: str) -> list[tuple[str, str]]:\n",
    "    \"\"\"Reads a FASTA file and returns a tupl data structure.\n",
    "    \n",
    "    Args:\n",
    "        path (str): Path to the FASTA file.\n",
    "        \n",
    "    Returns:\n",
    "        list[tuple[str, str]]: List of tuples containing header and sequence.\n",
    "    \"\"\"\n",
    "    \n",
    "    lines = open(path, \"r\").readlines()\n",
    "    records = []\n",
    "    \n",
    "    for line in lines:\n",
    "        if line.startswith(\">\"):\n",
    "            header = line.lstrip(\">\")\n",
    "        else:\n",
    "            records.append(\n",
    "                (header, line.strip())\n",
    "            )\n",
    "            \n",
    "    return records"
   ]
  },
  {
   "cell_type": "code",
   "execution_count": 9,
   "metadata": {
    "tags": []
   },
   "outputs": [
    {
     "name": "stdout",
     "output_type": "stream",
     "text": [
      "Maximum sequence length: 2391\n",
      "Minimum sequence length: 129\n"
     ]
    }
   ],
   "source": [
    "sequences = read_fasta(\"./all_sequences.fasta\")\n",
    "sequence_lengths = [len(seq) for _, seq in sequences]\n",
    "\n",
    "print(f\"Maximum sequence length: {max(sequence_lengths)}\")\n",
    "print(f\"Minimum sequence length: {min(sequence_lengths)}\")"
   ]
  },
  {
   "cell_type": "markdown",
   "metadata": {},
   "source": [
    "## Calculation of the GC-Content\n",
    "\n",
    "Now calculate the GC-Content for each sequence by counting `G` and `C` respectively and divide the sum of both numbers by the sequence length. Store the result for each sequence in a list called `gc_content` and print the highest and lowest value of that list.\n",
    "\n",
    "**Tips**\n",
    "\n",
    "> * Each string has internal functions that for instance can be used to count specific characters. Make use of it!"
   ]
  },
  {
   "cell_type": "code",
   "execution_count": 12,
   "metadata": {
    "tags": []
   },
   "outputs": [],
   "source": [
    "def calculate_gc(sequence: str) -> float:\n",
    "    \"\"\"Calculates the GC content of a sequence\n",
    "    \n",
    "    Args:\n",
    "        sequence (str): A nucleotide sequence\n",
    "    \n",
    "    Returns:\n",
    "        float: The gc content of this sequence\n",
    "    \"\"\"\n",
    "    \n",
    "    # Make sure everything is upper-case\n",
    "    sequence = sequence.upper()\n",
    "    \n",
    "    return (sequence.count(\"G\") + sequence.count(\"C\")) / len(sequence)"
   ]
  },
  {
   "cell_type": "code",
   "execution_count": 15,
   "metadata": {
    "tags": []
   },
   "outputs": [
    {
     "name": "stdout",
     "output_type": "stream",
     "text": [
      "Maximum GC content: 76.39%\n",
      "Minimum GC content: 22.83%\n"
     ]
    }
   ],
   "source": [
    "gc_content = [calculate_gc(seq) for _, seq in sequences]\n",
    "\n",
    "print(f\"Maximum GC content: {max(gc_content)*100:.2f}%\")\n",
    "print(f\"Minimum GC content: {min(gc_content)*100:.2f}%\")"
   ]
  },
  {
   "cell_type": "markdown",
   "metadata": {},
   "source": [
    "## Translation of a DNA sequence\n",
    "\n",
    "Translate each sequence into its respective amino acid sequence. In order to do that, start by splitting the sequences into triplets. Now use these triplets and construct a new sequence by assigning the corrsponding amino acid. Store the result in a new list called `proteins` and print a single sequence of your choice.\n",
    "\n",
    "There is a helper function `to_triplets` that will take care of splitting a gene into its respective triplets. In order to convert the triplets, use the dictionary `CODON_TABLE` which maps from triplet to amino acid.\n",
    "\n",
    "**Tips**\n",
    "\n",
    "> * Initially you have downloaded the `utils.py` file which contains both the function and codon table. Inspect the content of the file to read the docstring of the `to_triplets` function and the structure of `CODON_TABLE`."
   ]
  },
  {
   "cell_type": "code",
   "execution_count": 16,
   "metadata": {
    "tags": []
   },
   "outputs": [],
   "source": [
    "from utils import to_triplets, CODON_TABLE"
   ]
  },
  {
   "cell_type": "code",
   "execution_count": 22,
   "metadata": {
    "tags": []
   },
   "outputs": [],
   "source": [
    "def to_amino_acid(sequence: str) -> str:\n",
    "    \"\"\"Translates a nucleotide sequence into an amino acid sequence.\n",
    "    \n",
    "    Args:\n",
    "        sequence (str): A nucelotide sequence.\n",
    "        \n",
    "    Returns:\n",
    "        str: The translated amino acid sequence.\n",
    "        \n",
    "    \"\"\"\n",
    "    \n",
    "    BASES = {\"A\", \"G\", \"C\", \"T\"} \n",
    "    \n",
    "    if set(sequence) != BASES:\n",
    "        raise ValueError(f\"This sequence contains unknown bases! {set(sequences)}\")\n",
    "        \n",
    "    if len(sequence) % 3 != 0:\n",
    "        raise ValueError(\"The sequence length should be divisible by 3!\")\n",
    "        \n",
    "    amino_seq = []\n",
    "    triplets = to_triplets(sequence)\n",
    "    \n",
    "    for triplet in triplets:\n",
    "        amino_acid = CODON_TABLE[triplet]\n",
    "        \n",
    "        amino_seq.append(amino_acid)\n",
    "        \n",
    "    return \"\".join(amino_seq)"
   ]
  },
  {
   "cell_type": "code",
   "execution_count": 25,
   "metadata": {
    "tags": []
   },
   "outputs": [
    {
     "data": {
      "text/plain": [
       "'MNEVVQKEVLKLWQTGVTYPISDSSLVSPIQVVPKKGGITVVSNEKNELIPTRIVTGWRMCIDYRKLNEATRKDHFPLPFIDQMLERLAEHEYYCFLDGYSGYNQIVVDSKDQEITSFTSFKYLLTKKEYKPKLIRWVLLLQEFNIEIKDKNGAENKVADHLSRIPHEEGGAHQFKVNERFSDEQLMMIQESLWFADIANFKAIREFPTNINKHMRRKLLNEAKHYIWNEPYLFKKGVDGILRRCISQEKGQKVLWQCHRFAYGGHFSGERIVAKVLQCGFYWPTIFKDAKELVSRCNECQRASNLSKKNEMPQQFILELELFDVWGD_'"
      ]
     },
     "execution_count": 25,
     "metadata": {},
     "output_type": "execute_result"
    }
   ],
   "source": [
    "proteins = [to_amino_acid(seq) for _, seq in sequences]\n",
    "proteins[-1]"
   ]
  }
 ],
 "metadata": {
  "colab": {
   "provenance": []
  },
  "kernelspec": {
   "display_name": "Python 3 (ipykernel)",
   "language": "python",
   "name": "python3"
  },
  "language_info": {
   "codemirror_mode": {
    "name": "ipython",
    "version": 3
   },
   "file_extension": ".py",
   "mimetype": "text/x-python",
   "name": "python",
   "nbconvert_exporter": "python",
   "pygments_lexer": "ipython3",
   "version": "3.11.5"
  }
 },
 "nbformat": 4,
 "nbformat_minor": 4
}
