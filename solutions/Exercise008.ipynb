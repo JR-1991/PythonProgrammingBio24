{
 "cells": [
  {
   "cell_type": "markdown",
   "metadata": {
    "id": "YZyevmLCgYPB"
   },
   "source": [
    "# Exercise 008"
   ]
  },
  {
   "cell_type": "markdown",
   "metadata": {
    "id": "idtNqXkegYPD",
    "tags": []
   },
   "source": [
    "<a href=\"https://colab.research.google.com/github/FAIRChemistry/PythonProgrammingBio24/blob/main/solutions/Exercise008.ipynb\" target=\"_parent\"><img src=\"https://colab.research.google.com/assets/colab-badge.svg\" alt=\"Open In Colab\"/></a>"
   ]
  },
  {
   "cell_type": "code",
   "execution_count": null,
   "metadata": {
    "tags": []
   },
   "outputs": [],
   "source": [
    "# Please execute this cell to download the necessary data\n",
    "!wget https://raw.githubusercontent.com/JR-1991/PythonProgrammingBio24/main/scripts/utils.py\n",
    "!wget https://raw.githubusercontent.com/JR-1991/PythonProgrammingBio24/main/data/all_sequences.fasta\n",
    "\n",
    "from utils import CODON_TABLE, to_triplets"
   ]
  },
  {
   "cell_type": "code",
   "execution_count": null,
   "metadata": {
    "tags": []
   },
   "outputs": [],
   "source": [
    "# Install dependencies\n",
    "!pip install seaborn pandas"
   ]
  },
  {
   "cell_type": "markdown",
   "metadata": {
    "id": "XbNx_QaHeEcR"
   },
   "source": [
    "## Protein and DNA sequence classes\n",
    "\n",
    "Construct both a `ProteinSequence` and `DNASequence` class using the following schema:\n",
    "\n",
    "```mermaid\n",
    "classDiagram\n",
    "    class ProteinSequence{\n",
    "      +String id\n",
    "      +String organism\n",
    "      +String sequence\n",
    "      +Integer length\n",
    "      +Float molar_mass\n",
    "      +align()\n",
    "      +from_dna_sequence()\n",
    "    }\n",
    "    class DNASequence{\n",
    "      +String id\n",
    "      +String organism\n",
    "      +String sequence\n",
    "      +Integer length\n",
    "      +Float gc_content\n",
    "      +reverse_complement()\n",
    "      +to_protein_sequence()\n",
    "      +align()\n",
    "    }\n",
    "```\n",
    "\n",
    "Can you implement both classes efficiently by using inheritance? Try to spot common patterns and come up with an appropriate parent class.\n",
    "\n",
    "**Tips**\n",
    "\n",
    "> * Feel free to use the `get_identity`-function of the previous exercise.\n",
    "> * Dont hesitate using the `dataclass` decorator. It can help you in some ways already. Learn more on how to implement `__post_init__` to maximize customizability [here](https://docs.python.org/3/library/dataclasses.html#post-init-processing)\n",
    "> * Python lacks type validation and thus you do have limited control of what flows into your class. [PyDantic](https://docs.pydantic.dev/latest/) is an excellent tool to solve this and other issues. Try it out to make your life easier!"
   ]
  },
  {
   "cell_type": "markdown",
   "metadata": {},
   "source": [
    "### Helper functions and data structures"
   ]
  },
  {
   "cell_type": "code",
   "execution_count": 3,
   "metadata": {
    "tags": []
   },
   "outputs": [],
   "source": [
    "from Bio import pairwise2\n",
    "\n",
    "def get_identity(seq1: str, seq2: str):\n",
    "    \"\"\"Aligns two sequences using BioPython\n",
    "\n",
    "    Args:\n",
    "        seq1 (str): Query sequence to align to\n",
    "        seq2 (str): Target sequence to align with\n",
    "\n",
    "    Returns:\n",
    "        float: Identity of the resulting alignment\n",
    "\n",
    "    \"\"\"\n",
    "    return pairwise2.align.globalxx(seq1, seq2, score_only=True) / len(seq1)"
   ]
  },
  {
   "cell_type": "code",
   "execution_count": 6,
   "metadata": {
    "tags": []
   },
   "outputs": [],
   "source": [
    "# Molar masses of amino acids, drawn from\n",
    "# https://www.thermofisher.com/de/de/home/references/ambion-tech-support/rna-tools-and-calculators/proteins-and-amino-acids.html \n",
    "WEIGHT_MAPPING = {\n",
    "    'A': 89.1,   'R': 174.2,  'N': 132.1,\n",
    "    'D': 133.1,  'C': 121.2,  'E': 147.1,\n",
    "    'Q': 146.2,  'G': 75.1,   'H': 155.2,\n",
    "    'I': 131.2,  'L': 131.2,  'K': 146.2,\n",
    "    'M': 149.2,  'F': 165.2,  'P': 115.1,\n",
    "    'S': 105.1,  'T': 119.1,  'W': 204.2,\n",
    "    'Y': 181.2,  'V': 117.1\n",
    "}"
   ]
  },
  {
   "cell_type": "markdown",
   "metadata": {},
   "source": [
    "### Implementation"
   ]
  },
  {
   "cell_type": "code",
   "execution_count": 52,
   "metadata": {
    "id": "yubzZtmteEcR",
    "tags": []
   },
   "outputs": [],
   "source": [
    "from __future__ import annotations\n",
    "from typing import List\n",
    "\n",
    "class BioSequence:\n",
    "    \"\"\"\n",
    "    A class to represent a biological sequence.\n",
    "\n",
    "    Attributes:\n",
    "        id (str): Identifier of the sequence.\n",
    "        organism (str): Organism from which the sequence is derived.\n",
    "        sequence (str): The nucleotide or protein sequence.\n",
    "        length (int): Length of the sequence.\n",
    "\n",
    "    Methods:\n",
    "        align(other: BioSequence) -> float:\n",
    "            Aligns the sequence with another BioSequence and returns the identity score.\n",
    "        read_fasta(path: str) -> List[BioSequence]:\n",
    "            Reads sequences from a FASTA file and returns a list of BioSequence objects.\n",
    "    \"\"\"\n",
    "\n",
    "    def __init__(self, id: str, organism: str, sequence: str):\n",
    "        \"\"\"\n",
    "        Constructs all the necessary attributes for the BioSequence object.\n",
    "\n",
    "        Args:\n",
    "            id (str): Identifier of the sequence.\n",
    "            organism (str): Organism from which the sequence is derived.\n",
    "            sequence (str): The nucleotide or protein sequence.\n",
    "        \"\"\"\n",
    "        self.id = id\n",
    "        self.organism = organism\n",
    "        self.sequence = sequence.upper()\n",
    "        self.length = len(sequence)\n",
    "        \n",
    "    def align(self, other: BioSequence):\n",
    "        \"\"\"\n",
    "        Aligns the sequence with another BioSequence and returns the identity score.\n",
    "\n",
    "        Args:\n",
    "            other (BioSequence): Another BioSequence object to align with.\n",
    "\n",
    "        Returns:\n",
    "            float: The identity score of the alignment.\n",
    "\n",
    "        Raises:\n",
    "            TypeError: If the other sequence is not an instance of BioSequence.\n",
    "        \"\"\"\n",
    "        if type(other) != type(self):\n",
    "            raise TypeError(\n",
    "                f\"Expected instance of '{type(self)}'. Got '{type(other)}' instead\"\n",
    "            )\n",
    "            \n",
    "        return get_identity(self.sequence, other.sequence)\n",
    "    \n",
    "    @classmethod\n",
    "    def read_fasta(cls, path: str) -> List[BioSequence]:\n",
    "        \"\"\"\n",
    "        Reads sequences from a FASTA file and returns a list of BioSequence objects.\n",
    "\n",
    "        Args:\n",
    "            path (str): The path to the FASTA file.\n",
    "\n",
    "        Returns:\n",
    "            List[BioSequence]: A list of BioSequence objects.\n",
    "        \"\"\"\n",
    "        sequences = []\n",
    "\n",
    "        for line in open(path).readlines():\n",
    "            if line.startswith(\">\"):\n",
    "                line = line.strip()\n",
    "                organism, id = line.lstrip(\">\").split(\"|\")\n",
    "            else:\n",
    "                sequence = line.strip()\n",
    "                sequences.append(\n",
    "                    cls(\n",
    "                        organism=organism,\n",
    "                        sequence=sequence,\n",
    "                        id=id,\n",
    "                    )\n",
    "                )\n",
    "\n",
    "        return sequences\n",
    "\n",
    "class ProteinSequence(BioSequence):\n",
    "    \"\"\"\n",
    "    A class to represent a protein sequence, inheriting from BioSequence.\n",
    "\n",
    "    Attributes:\n",
    "        id (str): Identifier of the sequence.\n",
    "        organism (str): Organism from which the sequence is derived.\n",
    "        sequence (str): The protein sequence.\n",
    "        length (int): Length of the sequence.\n",
    "        molar_mass (float): Molar mass of the protein sequence.\n",
    "\n",
    "    Methods:\n",
    "        calculate_molar_mass() -> float:\n",
    "            Calculates and returns the molar mass of the protein sequence.\n",
    "        from_dna_sequence(dna_sequence: DNASequence) -> ProteinSequence:\n",
    "            Creates a ProteinSequence object from a DNASequence object.\n",
    "    \"\"\"\n",
    "\n",
    "    def __init__(self, id: str, organism: str, sequence: str):\n",
    "        \"\"\"\n",
    "        Constructs all the necessary attributes for the ProteinSequence object.\n",
    "\n",
    "        Args:\n",
    "            id (str): Identifier of the sequence.\n",
    "            organism (str): Organism from which the sequence is derived.\n",
    "            sequence (str): The protein sequence.\n",
    "        \"\"\"\n",
    "        super().__init__(id, organism, sequence)\n",
    "        \n",
    "        self.molar_mass = self.calculate_molar_mass()\n",
    "        \n",
    "    def calculate_molar_mass(self):\n",
    "        \"\"\"\n",
    "        Calculates and returns the molar mass of the protein sequence.\n",
    "\n",
    "        Returns:\n",
    "            float: The molar mass of the protein sequence.\n",
    "        \"\"\"\n",
    "        return sum([WEIGHT_MAPPING.get(aa, 0) for aa in list(self.sequence)])\n",
    "    \n",
    "    @classmethod\n",
    "    def from_dna_sequence(cls, dna_sequence: DNASequence) -> ProteinSequence:\n",
    "        \"\"\"\n",
    "        Creates a ProteinSequence object from a DNASequence object.\n",
    "\n",
    "        Args:\n",
    "            dna_sequence (DNASequence): A DNASequence object.\n",
    "\n",
    "        Returns:\n",
    "            ProteinSequence: A new ProteinSequence object.\n",
    "        \"\"\"\n",
    "        return cls(\n",
    "            organism=dna_sequence.organism,\n",
    "            id=dna_sequence.id,\n",
    "            sequence=dna_sequence.to_protein_sequence()\n",
    "        )\n",
    "\n",
    "class DNASequence(BioSequence):\n",
    "    \"\"\"\n",
    "    A class to represent a DNA sequence, inheriting from BioSequence.\n",
    "\n",
    "    Attributes:\n",
    "        id (str): Identifier of the sequence.\n",
    "        organism (str): Organism from which the sequence is derived.\n",
    "        sequence (str): The nucleotide sequence.\n",
    "        length (int): Length of the sequence.\n",
    "        gc_content (float): GC content of the DNA sequence.\n",
    "\n",
    "    Methods:\n",
    "        calculate_gc_content() -> float:\n",
    "            Calculates and returns the GC content of the DNA sequence.\n",
    "        reverse_complement() -> str:\n",
    "            Returns the reverse complement of the DNA sequence.\n",
    "        to_protein_sequence() -> str:\n",
    "            Translates the DNA sequence into a protein sequence.\n",
    "    \"\"\"\n",
    "\n",
    "    def __init__(self, id: str, organism: str, sequence: str):\n",
    "        \"\"\"\n",
    "        Constructs all the necessary attributes for the DNASequence object.\n",
    "\n",
    "        Args:\n",
    "            id (str): Identifier of the sequence.\n",
    "            organism (str): Organism from which the sequence is derived.\n",
    "            sequence (str): The nucleotide sequence.\n",
    "        \"\"\"\n",
    "        super().__init__(id, organism, sequence)\n",
    "        self.gc_content = self.calculate_gc_content()\n",
    "\n",
    "    def calculate_gc_content(self):\n",
    "        \"\"\"\n",
    "        Calculates and returns the GC content of the DNA sequence.\n",
    "\n",
    "        Returns:\n",
    "            float: The GC content of the DNA sequence.\n",
    "        \"\"\"\n",
    "        gc_count = sum(1 for base in self.sequence if base in ['G', 'C'])\n",
    "        return (gc_count / self.length) * 100 if self.length > 0 else 0\n",
    "\n",
    "    def reverse_complement(self):\n",
    "        \"\"\"\n",
    "        Returns the reverse complement of the DNA sequence.\n",
    "\n",
    "        Returns:\n",
    "            str: The reverse complement of the DNA sequence.\n",
    "        \"\"\"\n",
    "        complement = {'A': 'T', 'T': 'A', 'C': 'G', 'G': 'C'}\n",
    "        rev_comp = ''.join(complement[base] for base in reversed(self.sequence))\n",
    "        return rev_comp\n",
    "\n",
    "    def to_protein_sequence(self):\n",
    "        \"\"\"\n",
    "        Translates the DNA sequence into a protein sequence.\n",
    "\n",
    "        Returns:\n",
    "            str: The translated protein sequence.\n",
    "        \"\"\"\n",
    "        return \"\".join([CODON_TABLE[triplet] for triplet in to_triplets(self.sequence)])"
   ]
  },
  {
   "cell_type": "markdown",
   "metadata": {},
   "source": [
    "## Visualisation of molar mass\n",
    "\n",
    "Utilize your classes to parse the DNA sequences in `all_sequences.fasta` and plot the distribution of molar weights for each organism. Make sure to leverage the functionalities of your classes. The `from_dna_sequence` class method should provide a way to convert `DNASequence` instances into `ProteinSequence` instances, which can then be used to determine the molar weight."
   ]
  },
  {
   "cell_type": "code",
   "execution_count": 53,
   "metadata": {
    "tags": []
   },
   "outputs": [
    {
     "data": {
      "text/plain": [
       "<Axes: xlabel='molar_mass', ylabel='Count'>"
      ]
     },
     "execution_count": 53,
     "metadata": {},
     "output_type": "execute_result"
    },
    {
     "data": {
      "image/png": "[encoded data removed]",
      "text/plain": [
       "<Figure size 640x480 with 1 Axes>"
      ]
     },
     "metadata": {},
     "output_type": "display_data"
    }
   ],
   "source": [
    "import seaborn as sns\n",
    "import pandas as pd\n",
    "import warnings\n",
    "\n",
    "# Ignore seaborn warnings\n",
    "warnings.filterwarnings(\"ignore\")\n",
    "\n",
    "# Step 1: Parse FASTA and convert into ProteinSequence\n",
    "dna_sequences = DNASequence.read_fasta(\"all_sequences.fasta\")\n",
    "prot_sequences = [ProteinSequence.from_dna_sequence(dna_seq) for dna_seq in dna_sequences]\n",
    "\n",
    "# Step 2: Create a DataFrame from the given data\n",
    "df = pd.DataFrame([prot.__dict__ for prot in prot_sequences])\n",
    "\n",
    "# Step 3: Visualize the distribution\n",
    "sns.histplot(data=df, x=\"molar_mass\", hue=\"organism\", multiple=\"stack\")"
   ]
  },
  {
   "cell_type": "markdown",
   "metadata": {},
   "source": [
    "## Object-oriented vs procedual programming\n",
    "\n",
    "We have covered the basics of Object-Oriented Programming (OOP) and have practiced exercises similar to those from the first part of this course. Although OOP and procedural programming often complement each other, there are specific situations where one approach may be more advantageous than the other.\n",
    "\n",
    "Please list two scenarios for each paradigm where you believe it would be more effective. Support your choices with explanations based on what we have learned so far."
   ]
  },
  {
   "cell_type": "markdown",
   "metadata": {},
   "source": [
    "### OOP Cases\n",
    "\n",
    "* **Data management**\n",
    "  - **Reasoning:** In data management, the structure and behavior of data are key. OOP allows you to create classes that encapsulate data attributes and related methods, promoting data encapsulation, reuse, and maintenance. This approach makes it easier to manage complex relationships and interactions within the data, providing a clear and organized framework for data manipulation and querying.\n",
    "\n",
    "* **Video games**\n",
    "  - **Reasoning:** Video games often involve complex systems with many interacting entities, such as characters, items, and environments. OOP's ability to model real-world entities as objects with properties and behaviors is ideal for this. It allows for inheritance and encapsulation, which help in managing game states, behaviors, and interactions in a modular and scalable way. This results in more maintainable and extensible code.\n",
    "\n",
    "### Procedural Cases\n",
    "\n",
    "* **Data science/Machine Learning**\n",
    "  - **Reasoning:** Data science and machine learning tasks often involve a series of linear, well-defined steps for data processing, analysis, and model training. Procedural programming is well-suited for such tasks because it emphasizes a clear sequence of actions and operations on data. This approach can make the code more straightforward and easier to follow, especially for tasks that do not require the complexity of OOP's abstractions.\n",
    "\n",
    "* **Throw-away scripts**\n",
    "  - **Reasoning:** Throw-away scripts are typically small, simple programs written to solve a specific problem or automate a task quickly. Procedural programming is ideal for these scenarios because it allows for rapid development and execution of straightforward, linear processes without the overhead of defining classes and objects. The simplicity and directness of procedural code make it a practical choice for short-lived scripts that do not need to be maintained or extended over time."
   ]
  }
 ],
 "metadata": {
  "colab": {
   "provenance": []
  },
  "kernelspec": {
   "display_name": "Python 3 (ipykernel)",
   "language": "python",
   "name": "python3"
  },
  "language_info": {
   "codemirror_mode": {
    "name": "ipython",
    "version": 3
   },
   "file_extension": ".py",
   "mimetype": "text/x-python",
   "name": "python",
   "nbconvert_exporter": "python",
   "pygments_lexer": "ipython3",
   "version": "3.11.5"
  }
 },
 "nbformat": 4,
 "nbformat_minor": 4
}
