{
 "cells": [
  {
   "cell_type": "markdown",
   "metadata": {
    "id": "YZyevmLCgYPB"
   },
   "source": [
    "# Exercise 002"
   ]
  },
  {
   "cell_type": "markdown",
   "metadata": {
    "id": "idtNqXkegYPD",
    "tags": []
   },
   "source": [
    "<a href=\"https://colab.research.google.com/github/FAIRChemistry/PythonProgrammingBio24/blob/main/solutions/Exercise002.ipynb\" target=\"_parent\"><img src=\"https://colab.research.google.com/assets/colab-badge.svg\" alt=\"Open In Colab\"/></a>"
   ]
  },
  {
   "cell_type": "code",
   "execution_count": null,
   "metadata": {
    "id": "gT8TQT1ZgZO6",
    "tags": []
   },
   "outputs": [],
   "source": [
    "# Please execute this cell to download the necessary data\n",
    "!wget https://raw.githubusercontent.com/JR-1991/PythonProgrammingBio24/main/data/archaea_sequences.fasta\n",
    "!wget https://raw.githubusercontent.com/JR-1991/PythonProgrammingBio24/main/data/ecoli_sequences.fasta\n",
    "!wget https://raw.githubusercontent.com/JR-1991/PythonProgrammingBio24/main/data/plant_sequences.fasta"
   ]
  },
  {
   "cell_type": "markdown",
   "metadata": {
    "id": "oknDf6p0gYPD"
   },
   "source": [
    "## Reading a FASTA file\n",
    "\n",
    "Write a parser thats reads and processes a FASTA file called `ecoli_sequences.fasta` into a list named `ecoli`. Repeat the process for the files `archaea_sequences.fasta` and `plant_sequences.fasta`. Make sure to name the resulting variables appropriately to ensure clean code principles.\n",
    "\n",
    "-----\n",
    "**Tips**\n",
    "\n",
    "> * FASTA files follow a stringent structure: Header first, followed by the actual sequence. Inspect the file using print to find a pattern.\n",
    "> * Try using functions to solve the problem. While not mandatory, it can save code lines and generalize a concept such as a FASTA parser. Click [here](https://www.w3schools.com/python/python_functions.asp) for more on Python functions.\n",
    "> * When typing a file name, hit tab on your keyboard to auto-complete. Makes life easier ☺️*\n",
    "\n",
    "**FASTA Schema**\n",
    "\n",
    "```\n",
    "0 | >Header1\n",
    "1 | Sequence1\n",
    "2 | >Header2\n",
    "3 | Sequence2\n",
    "```"
   ]
  },
  {
   "cell_type": "code",
   "execution_count": 2,
   "metadata": {
    "id": "L4BeH5Y8gYPD",
    "tags": []
   },
   "outputs": [],
   "source": [
    "def read_fasta(path: str) -> list[tuple[str, str]]:\n",
    "    \"\"\"Reads a FASTA file to a list of tuples.\n",
    "    \n",
    "    This is a docstring, which is not functional,\n",
    "    but a general comment and documentation of your\n",
    "    function. Docstrings are very important\n",
    "    \n",
    "    Args:\n",
    "        path (str): The path to the FASTA file to parse\n",
    "    \n",
    "    Returns:\n",
    "        list[tuple[str, str]]: The parsed sequence records.\n",
    "    \n",
    "    Example:\n",
    "        >>> sequences = read_fasta(\"path/to/your.fasta\")\n",
    "        >>> print(sequences)\n",
    "        \n",
    "        >>> [\n",
    "        >>>  (\"Header1\", \"AGTGGTG..\"),\n",
    "        >>>  (\"Header2\", \"AGTGGTG..\"),\n",
    "        >>> ]\n",
    "    \n",
    "    \"\"\"\n",
    "    \n",
    "    lines = open(path, \"r\").readlines()\n",
    "    records = []\n",
    "    \n",
    "    for line in lines:\n",
    "        if line.startswith(\">\"):\n",
    "            header = line[1::].strip()\n",
    "        else:\n",
    "            sequence = line.strip()\n",
    "            records.append(\n",
    "                (header, sequence)\n",
    "            )\n",
    "            \n",
    "    return records\n",
    "        "
   ]
  },
  {
   "cell_type": "code",
   "execution_count": 5,
   "metadata": {
    "tags": []
   },
   "outputs": [
    {
     "name": "stdout",
     "output_type": "stream",
     "text": [
      "('ecoli|1', 'ATGCGTTCTCGCTATTTGTTACATCAATATTTTGTTCAGGTACAGTTTGCAGCGCCGTCGCCAGCGCCAACGGATTCCATGTCATATATTATTCCATATAGATTAAGTTTAAATATTAATAAAATGAATATTTGCAATACGTAATTATCTTACCAGCTATAGACAAAAAAAAACCATCCAAATCTGGATGGCTTTTCATAATTCAGAGGAACTAGCTGCGCTGACGAACCGCTTCAAATAAGCAAATTCCGGTTGCAACCGAAACGTTCAGGGAAGAAACACTTCCTGCCATTGGGATGCTGATCAACTCATCGCAATGTTCACGGGTCAGGCGACGCATACCTTCACCTTCCGCGCCCATCACCAGCGCCAGGCGTCCGGTCATTTTGCTTTGATAGAGCGTATGATCCGCCTCACCTGCCGTACCGACGATCCAGATATTCTCTTCCTGCAACATACGCATGGTGCGCGCAAGGTTAGTCACCCGAATCAGTGGAACGCTTTCTGCCGCGCCGCAGGCTACTTTTTTCGCCGTGGCGTTGAGCTGTGCGGAGCGATCTTTCGGCACAATCACCGCGTGAACGCCAGCAGCGTCCGCGCTACGCAGGCACGCGCCGAGGTTGTGCGGATCGGTTACACCGTCGAGGATCAGCAGGAACGGTTGATCGAGCGAAGCGATCAGATCCGGCAGATCGTTTTCCTGGTACTGACGTCCTGGCTTCACGCGGGCGATAATGCCCTGATGCACGGCACCGTCGCTTTTCTCGTCGAGATATTGGCGGTTTGCCAACTGGATAACCACGCCCTGGGACTCAAGGGCGTGGATCAGCGGTAACAGACGTTTATCTTCACGGCCTTTTAAAATAA')\n"
     ]
    }
   ],
   "source": [
    "ecoli = read_fasta(\"./ecoli_sequences.fasta\")\n",
    "archaea = read_fasta(\"./archaea_sequences.fasta\")\n",
    "plant = read_fasta(\"./plant_sequences.fasta\")\n",
    "\n",
    "print(ecoli[0])"
   ]
  },
  {
   "cell_type": "markdown",
   "metadata": {
    "id": "Jt2Zh1FUgYPE"
   },
   "source": [
    "## Writing of a FASTA file"
   ]
  },
  {
   "cell_type": "markdown",
   "metadata": {
    "id": "bJAdsjatgYPE"
   },
   "source": [
    "Write all three lists that you've just created using your parser to a new FASTA file called `all_sequences.fasta`. When merging your data into a single file, make sure to assign a header for each sequence that includes information about the organism and an appropriate identifier. Be careful for duplicate headers, each one should be unique.\n",
    "\n",
    "Finally, inspect your file manually. Did everything went as expected?\n",
    "\n",
    "-----\n",
    "\n",
    "**Tips**\n",
    "\n",
    "> * Try using functions to solve the problem. While not mandatory, it can save code lines and generalize a concept such as a FASTA parser. Click [here](https://www.w3schools.com/python/python_functions.asp) for more on Python functions.\n",
    "> * Close the file when everything has been done or make use of a [context manager](https://www.pythontutorial.net/advanced-python/python-context-managers/).\n",
    "> * Use string formatting to insert variables to your header! Click [here](https://www.programiz.com/python-programming/string-interpolation) for more information.\n",
    "\n",
    "**String formatting**\n",
    "\n",
    "```python\n",
    "variable1, variable2 = \"Hello\", \"World\"\n",
    "my_string = f\"{variable1}_{variable2}\"\n",
    "\n",
    "print(my_string)  \n",
    "\n",
    "# prints \"Hello_World\"\n",
    "```"
   ]
  },
  {
   "cell_type": "code",
   "execution_count": 6,
   "metadata": {
    "id": "P5aULW_3gYPE",
    "tags": []
   },
   "outputs": [],
   "source": [
    "def write_fasta(\n",
    "    filepath: str,\n",
    "    records: list[tuple[str, str]]\n",
    ") -> None:\n",
    "    \"\"\"Writes a list of sequence records to a FASTA file\n",
    "    \n",
    "    Args:\n",
    "        filepath (str): The file path to which the sequences will be written\n",
    "        records (list[tuple[str, str]]): The records to write to the file\n",
    "    \n",
    "    Example:\n",
    "        >>> write_fasta(\n",
    "        >>>     filepath=\"./all_seqs.fasta\",\n",
    "        >>>     records=records\n",
    "        >>> )\n",
    "    \n",
    "    \"\"\"\n",
    "    \n",
    "    with open(filepath, \"w\") as file:\n",
    "        for header, sequence in records:\n",
    "            file.write(\n",
    "                f\">{header}\\n{sequence}\\n\"\n",
    "            )"
   ]
  },
  {
   "cell_type": "code",
   "execution_count": 7,
   "metadata": {
    "tags": []
   },
   "outputs": [],
   "source": [
    "# Combine all sequence into a single list\n",
    "all_sequences = ecoli + archaea + plant\n",
    "\n",
    "# Write the new collection to a file\n",
    "write_fasta(\n",
    "    filepath=\"./all_sequences.fasta\",\n",
    "    records=all_sequences,\n",
    ")"
   ]
  },
  {
   "cell_type": "markdown",
   "metadata": {
    "id": "fRNITBDngYPE"
   },
   "source": [
    "## Programmers ~can be~ are lazy!\n",
    "\n",
    "Accoding to Larry Wall, creator of the programming language Perl, programmers are lazy. Python is one of the best supported programming languages in terms of packages and thats one of the major appeals of using Python. Thus, to know how and where to look for third-party software is essential to an efficient development process.\n",
    "\n",
    "Remember, you dont have to re-invent the wheel to be good at programming.\n",
    "\n",
    "Can you find a package that could have helped you in this exercise?"
   ]
  },
  {
   "cell_type": "markdown",
   "metadata": {
    "id": "z_3whCW5gYPE",
    "tags": []
   },
   "source": [
    "_Answer_\n",
    "\n",
    "There are a couple of packages available at [PyPI](https://pypi.org) that enable you to read FASTA files:\n",
    "\n",
    "* [BioPython](https://pypi.org/project/biopython/) - Reading FASTA files and much more bio-related functions\n",
    "* [fasta-reader](https://pypi.org/project/fasta-reader/) - Bare bones FASTA parser"
   ]
  },
  {
   "cell_type": "markdown",
   "metadata": {},
   "source": [
    "### How can I install packages?\n",
    "\n",
    "You can use Python's standard package installer `pip` to install whatever package you want. Typically, these are found at [PyPI](https://pypi.org) and thus are available for `pip`. This is how you can install a package:\n",
    "\n",
    "```bash\n",
    "pip install package_name\n",
    "```\n",
    "\n",
    "Within a Jupyter notebook you can also install a package. Lets do that in the next cell!"
   ]
  },
  {
   "cell_type": "code",
   "execution_count": 8,
   "metadata": {
    "tags": []
   },
   "outputs": [
    {
     "name": "stdout",
     "output_type": "stream",
     "text": [
      "Collecting biopython\n",
      "  Obtaining dependency information for biopython from https://files.pythonhosted.org/packages/7e/40/0543d137e4a45b0e5d3a7c5ce9b607e687d9e5b715eadfdae34de8d6906a/biopython-1.83-cp311-cp311-macosx_11_0_arm64.whl.metadata\n",
      "  Downloading biopython-1.83-cp311-cp311-macosx_11_0_arm64.whl.metadata (13 kB)\n",
      "Requirement already satisfied: numpy in /Users/janrange/anaconda3/lib/python3.11/site-packages (from biopython) (1.26.4)\n",
      "Downloading biopython-1.83-cp311-cp311-macosx_11_0_arm64.whl (2.7 MB)\n",
      "\u001b[2K   \u001b[90m━━━━━━━━━━━━━━━━━━━━━━━━━━━━━━━━━━━━━━━━\u001b[0m \u001b[32m2.7/2.7 MB\u001b[0m \u001b[31m10.8 MB/s\u001b[0m eta \u001b[36m0:00:00\u001b[0m00:01\u001b[0m00:01\u001b[0m\n",
      "\u001b[?25hInstalling collected packages: biopython\n",
      "Successfully installed biopython-1.83\n"
     ]
    }
   ],
   "source": [
    "# The exclamation mark tells Jupyter to run\n",
    "# a command within the systems shell/cmd\n",
    "!pip install biopython"
   ]
  },
  {
   "cell_type": "markdown",
   "metadata": {},
   "source": [
    "### How can I use packages?\n",
    "\n",
    "In order to use an installed package, you need to import it into Python. This is done by using the `import` statement in Python. You can also import specific parts of a package by using the `from xy import a` syntax. Let's put that into practice by using the newly installed `biopython` package to parse our newly created FASTA file."
   ]
  },
  {
   "cell_type": "code",
   "execution_count": 10,
   "metadata": {
    "tags": []
   },
   "outputs": [
    {
     "name": "stdout",
     "output_type": "stream",
     "text": [
      "Record Header: ecoli|1\n",
      "Record Sequence: ATGCGTTCTCGCTATTTGTTACATCAATATTTTGTTCAGGTACAGTTTGCAGCGCCGTCGCCAGCGCCAACGGATTCCATGTCATATATTATTCCATATAGATTAAGTTTAAATATTAATAAAATGAATATTTGCAATACGTAATTATCTTACCAGCTATAGACAAAAAAAAACCATCCAAATCTGGATGGCTTTTCATAATTCAGAGGAACTAGCTGCGCTGACGAACCGCTTCAAATAAGCAAATTCCGGTTGCAACCGAAACGTTCAGGGAAGAAACACTTCCTGCCATTGGGATGCTGATCAACTCATCGCAATGTTCACGGGTCAGGCGACGCATACCTTCACCTTCCGCGCCCATCACCAGCGCCAGGCGTCCGGTCATTTTGCTTTGATAGAGCGTATGATCCGCCTCACCTGCCGTACCGACGATCCAGATATTCTCTTCCTGCAACATACGCATGGTGCGCGCAAGGTTAGTCACCCGAATCAGTGGAACGCTTTCTGCCGCGCCGCAGGCTACTTTTTTCGCCGTGGCGTTGAGCTGTGCGGAGCGATCTTTCGGCACAATCACCGCGTGAACGCCAGCAGCGTCCGCGCTACGCAGGCACGCGCCGAGGTTGTGCGGATCGGTTACACCGTCGAGGATCAGCAGGAACGGTTGATCGAGCGAAGCGATCAGATCCGGCAGATCGTTTTCCTGGTACTGACGTCCTGGCTTCACGCGGGCGATAATGCCCTGATGCACGGCACCGTCGCTTTTCTCGTCGAGATATTGGCGGTTTGCCAACTGGATAACCACGCCCTGGGACTCAAGGGCGTGGATCAGCGGTAACAGACGTTTATCTTCACGGCCTTTTAAAATAA\n"
     ]
    }
   ],
   "source": [
    "from Bio import SeqIO # We only want SeqIO\n",
    "\n",
    "# We are going to use the `parse` method of the SeqIO module.\n",
    "\n",
    "for record in SeqIO.parse(\"all_sequences.fasta\", \"fasta\"):\n",
    "    \n",
    "    print(f\"Record Header: {record.id}\")\n",
    "    print(f\"Record Sequence: {record.seq}\")\n",
    "    \n",
    "    # We will break the loop to display only the first\n",
    "    break"
   ]
  }
 ],
 "metadata": {
  "colab": {
   "provenance": []
  },
  "kernelspec": {
   "display_name": "Python 3 (ipykernel)",
   "language": "python",
   "name": "python3"
  },
  "language_info": {
   "codemirror_mode": {
    "name": "ipython",
    "version": 3
   },
   "file_extension": ".py",
   "mimetype": "text/x-python",
   "name": "python",
   "nbconvert_exporter": "python",
   "pygments_lexer": "ipython3",
   "version": "3.11.5"
  }
 },
 "nbformat": 4,
 "nbformat_minor": 4
}
