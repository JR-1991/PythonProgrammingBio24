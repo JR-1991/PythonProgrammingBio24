{
  "cells": [
    {
      "cell_type": "markdown",
      "metadata": {
        "id": "view-in-github",
        "colab_type": "text"
      },
      "source": [
        "<a href=\"https://colab.research.google.com/github/FAIRChemistry/PythonProgrammingBio24/blob/main/exercises/Exercise001.ipynb\" target=\"_parent\"><img src=\"https://colab.research.google.com/assets/colab-badge.svg\" alt=\"Open In Colab\"/></a>"
      ]
    },
    {
      "cell_type": "markdown",
      "id": "66482492-90ce-4977-b188-cb5b29d63b63",
      "metadata": {
        "id": "66482492-90ce-4977-b188-cb5b29d63b63"
      },
      "source": [
        "# Variables and Printing\n",
        "\n",
        "Store the string `Hello World` in a variable with name `first_variable` and print it."
      ]
    },
    {
      "cell_type": "code",
      "execution_count": null,
      "id": "b4fc441d-d850-4c84-b0f1-3b935114fb2b",
      "metadata": {
        "tags": [],
        "id": "b4fc441d-d850-4c84-b0f1-3b935114fb2b"
      },
      "outputs": [],
      "source": [
        "# Enter your code here"
      ]
    },
    {
      "cell_type": "markdown",
      "id": "51d35861-edbf-417f-8c0a-5b3fdb9223c1",
      "metadata": {
        "id": "51d35861-edbf-417f-8c0a-5b3fdb9223c1"
      },
      "source": [
        "# For-Loops\n",
        "\n",
        "Count from `1` to `10` by using a for loop, store each value in a variable value and print it. Use the range-function to help you.\n",
        "\n",
        "*Tip: Typically programming languages start by counting from zero. Make sure that the range-function starts correctly.*"
      ]
    },
    {
      "cell_type": "code",
      "execution_count": null,
      "id": "b9207a11-fd3f-4020-9a9c-38b072abb1bc",
      "metadata": {
        "id": "b9207a11-fd3f-4020-9a9c-38b072abb1bc"
      },
      "outputs": [],
      "source": [
        "# Enter your code here"
      ]
    },
    {
      "cell_type": "markdown",
      "id": "75b5dbf6-b604-45ab-a3ca-8a19278ee895",
      "metadata": {
        "id": "75b5dbf6-b604-45ab-a3ca-8a19278ee895"
      },
      "source": [
        "# While-Loops\n",
        "\n",
        "Repeat the previous task using a while-loop.\n",
        "\n",
        "*Tip: While-Loops are closed by a condition, so make sure that the loop is stopped at the end.*"
      ]
    },
    {
      "cell_type": "code",
      "execution_count": null,
      "id": "ab066609-2e4d-484d-871b-f147dd71c072",
      "metadata": {
        "id": "ab066609-2e4d-484d-871b-f147dd71c072"
      },
      "outputs": [],
      "source": [
        "# Enter your code here"
      ]
    },
    {
      "cell_type": "markdown",
      "id": "a1fd0d0b-408a-4119-99cc-83e420c05870",
      "metadata": {
        "id": "a1fd0d0b-408a-4119-99cc-83e420c05870"
      },
      "source": [
        "# Conditional statements\n",
        "\n",
        "Count from `1` to `10` using a for-loop, store each value in variable value and distinguish whether a number is odd or even. Print each result and modify the print to display whether the number is odd or even as well as the number itself:\n",
        "\n",
        "Example:\n",
        "\n",
        "```python\n",
        "print(\"odd\", 1)\n",
        "```\n",
        "\n",
        "*Tip: Use the modulo-function using the `%`-operator. It behaves similar to any other operator and returns the remainder of the division.*\n",
        "\n",
        "```python\n",
        "5 % 5 = 0\n",
        "```"
      ]
    },
    {
      "cell_type": "code",
      "execution_count": null,
      "id": "1fd84545-d8e1-4504-8250-cb3c44406eb0",
      "metadata": {
        "id": "1fd84545-d8e1-4504-8250-cb3c44406eb0"
      },
      "outputs": [],
      "source": [
        "# Enter your code here"
      ]
    },
    {
      "cell_type": "markdown",
      "id": "1055c857-a179-4807-9de9-ed5cd5b0ee0c",
      "metadata": {
        "id": "1055c857-a179-4807-9de9-ed5cd5b0ee0c"
      },
      "source": [
        "# Lists #1\n",
        "\n",
        "Store the numbers `1` to `5` in a list under the variable `my_list` and print it. Finally, add the first and last element of the list and print the result."
      ]
    },
    {
      "cell_type": "code",
      "execution_count": null,
      "id": "fe7cc982-1a4a-4dfe-948f-cb91d915261d",
      "metadata": {
        "id": "fe7cc982-1a4a-4dfe-948f-cb91d915261d"
      },
      "outputs": [],
      "source": [
        "# Enter your code here"
      ]
    },
    {
      "cell_type": "markdown",
      "id": "d96d4dd9-f18d-4be1-9942-affa3fd4b54c",
      "metadata": {
        "id": "d96d4dd9-f18d-4be1-9942-affa3fd4b54c"
      },
      "source": [
        "# Lists #2\n",
        "\n",
        "Store the number `0` to `49` in a list under variabl `my_list`. Now sort the list in two new lists `even` and `odd`, where each list contains even and odd number from `my_list` respectively. Finally, print both lists.\n",
        "\n",
        "*Tip: So called [list comprehensions](https://www.w3schools.com/python/python_lists_comprehension.asp) unify the concept of a list and a for-loop into a single line. In addtion, you can add conditions that help only to include those value in a list, that meet the conditions.*"
      ]
    },
    {
      "cell_type": "code",
      "execution_count": null,
      "id": "b1d9aa0d-e251-471a-b2cc-8fa9e2cb3c47",
      "metadata": {
        "id": "b1d9aa0d-e251-471a-b2cc-8fa9e2cb3c47"
      },
      "outputs": [],
      "source": [
        "# Enter your code here"
      ]
    },
    {
      "cell_type": "markdown",
      "id": "e148d496-d1c5-4437-836d-6357a1db3c44",
      "metadata": {
        "id": "e148d496-d1c5-4437-836d-6357a1db3c44"
      },
      "source": [
        "# Dictionaries\n",
        "\n",
        "Store both of the previous lists `even` and `odd` in a dictionary by mapping each list using the keys `even` and `odd`. In addition, add a new list which contains all numbers in `my_list` that are divisible by `3` using the dictionary key `by_three`. Finally, print the dicitonary to inspect its content."
      ]
    },
    {
      "cell_type": "code",
      "execution_count": null,
      "id": "69f78e2f-b49f-46b7-bd35-58f640f5fc85",
      "metadata": {
        "id": "69f78e2f-b49f-46b7-bd35-58f640f5fc85"
      },
      "outputs": [],
      "source": [
        "# Enter your code here"
      ]
    },
    {
      "cell_type": "markdown",
      "id": "f67cc6e7-5edb-4e6a-bc50-87cc90292ac1",
      "metadata": {
        "id": "f67cc6e7-5edb-4e6a-bc50-87cc90292ac1"
      },
      "source": [
        "# Reading and writing of files (Optional)\n",
        "\n",
        "Write out all numbers found in `even` to a file called `even.txt`. Next, read the same file and save the result in a new list called `new_list`. Finally, add the first and third entry of the list. Does it work? If not, can you find an explanation?\n",
        "\n",
        "*Tip: When writing to a file, Python does exactly what its told. So make sure to include newlines `\\n` after writing each number. Otherwise, reading it correctly will be impossible.*\n",
        "\n",
        "*Tip: Newlines `\\n` will also be read and can be removed upon parsing of a line by using `line.strip()`, where line is the string on which you'd like to remove the newline.*\n",
        "\n",
        "*Tip: Using the open-function facilitates writing and reading of a file. There are ways to shorten your work. See the following examples:`\n",
        "\n",
        "```python\n",
        "# Write to a file\n",
        "with open(\"example.txt\", \"w\") as file:\n",
        "\n",
        "    for value in my_list:\n",
        "        file.write(\"Example\")\n",
        "\n",
        "# Read from a file\n",
        "example = [ line.strip() for line in open(\"example.txt\", \"r\").readlines() ]\n",
        "```"
      ]
    },
    {
      "cell_type": "code",
      "execution_count": null,
      "id": "3102e2a2-8963-4f2f-8410-3d7b8ab33c76",
      "metadata": {
        "id": "3102e2a2-8963-4f2f-8410-3d7b8ab33c76"
      },
      "outputs": [],
      "source": [
        "# Enter your code here"
      ]
    }
  ],
  "metadata": {
    "kernelspec": {
      "display_name": "Python 3 (ipykernel)",
      "language": "python",
      "name": "python3"
    },
    "language_info": {
      "codemirror_mode": {
        "name": "ipython",
        "version": 3
      },
      "file_extension": ".py",
      "mimetype": "text/x-python",
      "name": "python",
      "nbconvert_exporter": "python",
      "pygments_lexer": "ipython3",
      "version": "3.11.5"
    },
    "colab": {
      "provenance": [],
      "include_colab_link": true
    }
  },
  "nbformat": 4,
  "nbformat_minor": 5
}