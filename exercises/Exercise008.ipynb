{
 "cells": [
  {
   "cell_type": "markdown",
   "metadata": {
    "id": "YZyevmLCgYPB"
   },
   "source": [
    "# Exercise 008"
   ]
  },
  {
   "cell_type": "markdown",
   "metadata": {
    "id": "idtNqXkegYPD",
    "tags": []
   },
   "source": [
    "<a href=\"https://colab.research.google.com/github/FAIRChemistry/PythonProgrammingBio24/blob/main/exercises/Exercise008.ipynb\" target=\"_parent\"><img src=\"https://colab.research.google.com/assets/colab-badge.svg\" alt=\"Open In Colab\"/></a>"
   ]
  },
  {
   "cell_type": "code",
   "execution_count": null,
   "metadata": {
    "tags": []
   },
   "outputs": [],
   "source": [
    "# Please execute this cell to download the necessary data\n",
    "!wget https://raw.githubusercontent.com/JR-1991/PythonProgrammingBio24/main/scripts/utils.py\n",
    "!wget https://raw.githubusercontent.com/JR-1991/PythonProgrammingBio24/main/data/all_sequences.fasta\n",
    "\n",
    "from utils import CODON_TABLE, to_triplets"
   ]
  },
  {
   "cell_type": "markdown",
   "metadata": {
    "id": "XbNx_QaHeEcR"
   },
   "source": [
    "## Protein and DNA sequence classes\n",
    "\n",
    "Construct both a `ProteinSequence` and `DNASequence` class using the following schema:\n",
    "\n",
    "```mermaid\n",
    "classDiagram\n",
    "    class ProteinSequence{\n",
    "      +String id\n",
    "      +String organism\n",
    "      +String sequence\n",
    "      +Integer length\n",
    "      +Float molar_mass\n",
    "      +align()\n",
    "      +from_dna_sequence()\n",
    "    }\n",
    "    class DNASequence{\n",
    "      +String id\n",
    "      +String organism\n",
    "      +String sequence\n",
    "      +Integer length\n",
    "      +Float gc_content\n",
    "      +reverse_complement()\n",
    "      +to_protein_sequence()\n",
    "      +align()\n",
    "    }\n",
    "```\n",
    "\n",
    "Can you implement both classes efficiently by using inheritance? Try to spot common patterns and come up with an appropriate parent class.\n",
    "\n",
    "**Tips**\n",
    "\n",
    "> * Feel free to use the `get_identity`-function of the previous exercise.\n",
    "> * Dont hesitate using the `dataclass` decorator. It can help you in some ways already. Learn more on how to implement `__post_init__` to maximize customizability [here](https://docs.python.org/3/library/dataclasses.html#post-init-processing)\n",
    "> * Python lacks type validation and thus you do have limited control of what flows into your class. [PyDantic](https://docs.pydantic.dev/latest/) is an excellent tool to solve this and other issues. Try it out to make your life easier!"
   ]
  },
  {
   "cell_type": "code",
   "execution_count": 1,
   "metadata": {
    "id": "yubzZtmteEcR",
    "tags": []
   },
   "outputs": [],
   "source": [
    "# Enter Code here"
   ]
  },
  {
   "cell_type": "markdown",
   "metadata": {},
   "source": [
    "## Visualisation of molar mass\n",
    "\n",
    "Utilize your classes to parse the DNA sequences in `all_sequences.fasta` and plot the distribution of molar weights for each organism. Make sure to leverage the functionalities of your classes. The `from_dna_sequence` class method should provide a way to convert `DNASequence` instances into `ProteinSequence` instances, which can then be used to determine the molar weight."
   ]
  },
  {
   "cell_type": "code",
   "execution_count": 2,
   "metadata": {
    "tags": []
   },
   "outputs": [],
   "source": [
    "# Enter code here"
   ]
  },
  {
   "cell_type": "markdown",
   "metadata": {},
   "source": [
    "## Object-oriented vs procedual programming\n",
    "\n",
    "We have covered the basics of Object-Oriented Programming (OOP) and have practiced exercises similar to those from the first part of this course. Although OOP and procedural programming often complement each other, there are specific situations where one approach may be more advantageous than the other.\n",
    "\n",
    "Please list two scenarios for each paradigm where you believe it would be more effective. Support your choices with explanations based on what we have learned so far."
   ]
  },
  {
   "cell_type": "markdown",
   "metadata": {},
   "source": [
    "> _This is a markdown cell that can be edited by double-clicking._\n",
    "\n",
    "### OOP Cases\n",
    "\n",
    "* Enter your answer\n",
    "* Enter your answer\n",
    "\n",
    "### Procedual Cases\n",
    "\n",
    "* Enter your answer\n",
    "* Enter your answer"
   ]
  }
 ],
 "metadata": {
  "colab": {
   "provenance": []
  },
  "kernelspec": {
   "display_name": "Python 3 (ipykernel)",
   "language": "python",
   "name": "python3"
  },
  "language_info": {
   "codemirror_mode": {
    "name": "ipython",
    "version": 3
   },
   "file_extension": ".py",
   "mimetype": "text/x-python",
   "name": "python",
   "nbconvert_exporter": "python",
   "pygments_lexer": "ipython3",
   "version": "3.11.5"
  }
 },
 "nbformat": 4,
 "nbformat_minor": 4
}
