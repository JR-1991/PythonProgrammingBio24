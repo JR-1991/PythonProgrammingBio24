{
 "cells": [
  {
   "cell_type": "markdown",
   "metadata": {
    "id": "YZyevmLCgYPB"
   },
   "source": [
    "# Exercise 007"
   ]
  },
  {
   "cell_type": "markdown",
   "metadata": {
    "id": "idtNqXkegYPD",
    "tags": []
   },
   "source": [
    "<a href=\"https://colab.research.google.com/github/FAIRChemistry/PythonProgrammingBio24/blob/main/exercises/Exercise007.ipynb\" target=\"_parent\"><img src=\"https://colab.research.google.com/assets/colab-badge.svg\" alt=\"Open In Colab\"/></a>"
   ]
  },
  {
   "cell_type": "code",
   "execution_count": null,
   "metadata": {
    "tags": []
   },
   "outputs": [],
   "source": [
    "# Please execute this cell to download the necessary data\n",
    "!wget https://raw.githubusercontent.com/JR-1991/PythonProgrammingBio24/main/scripts/utils.py\n",
    "!wget https://raw.githubusercontent.com/JR-1991/PythonProgrammingBio24/main/data/single_sequence.fasta\n",
    "\n",
    "from utils import CODON_TABLE, to_triplets"
   ]
  },
  {
   "cell_type": "markdown",
   "metadata": {
    "id": "XbNx_QaHeEcR"
   },
   "source": [
    "# DNASequence class\n",
    "\n",
    "Construct a `DNASequence` class that contains the following attributes:\n",
    "\n",
    "* `id`\n",
    "* `sequence`\n",
    "* `organism`\n",
    "* `gc_content`\n",
    "* `length`\n",
    "* `reverse_complement`\n",
    "\n",
    "Next, implement methods for your class that perform the following tasks:\n",
    "\n",
    "* `to_amino_acid`: Converts the nucelic acid sequence to an amino acid sequence.\n",
    "* `align`: Takes another sequence and aligns it against the instance sequence.\n",
    "* `__repr__`: Define how the contents of your class should be printed.\n",
    "* `from_fasta`: Define a classmethod that parses a single FASTA entry into your class.\n",
    "\n",
    "Demonstrate your class by parsing the `single_sequence.fasta` file either manually or via the `from_fasta`-classmethod.\n",
    "\n",
    "**Tips**\n",
    "\n",
    "> * Feel free to use the `get_identity`-function of the previous exercise.\n",
    "> * When implementing the `classmethod` make sure to check if the format is correct. We have so far followed the `>[Header]\\n[Sequence]` format.\n",
    "> * Translate your sequence using the supported `to_triplets` function and `CODON_TABLE` dictionary.\n",
    "> * Not familiar with reverse complements? Find more info [here](http://genewarrior.com/docs/exp_revcomp.jsp)\n",
    "> * Dont hesitate using the `dataclass` decorator. It can help you in some ways already. Learn more on how to implement `__post_init__` to maximize customizability [here](https://docs.python.org/3/library/dataclasses.html#post-init-processing)\n",
    "> * Python lacks type validation and thus you do have limited control of what flows into your class. [PyDantic](https://docs.pydantic.dev/latest/) is an excellent tool to solve this and other issues. Try it out to make your life easier!"
   ]
  },
  {
   "cell_type": "code",
   "execution_count": null,
   "metadata": {
    "id": "yubzZtmteEcR",
    "tags": []
   },
   "outputs": [],
   "source": [
    "# Enter Code here"
   ]
  }
 ],
 "metadata": {
  "colab": {
   "provenance": []
  },
  "kernelspec": {
   "display_name": "Python 3 (ipykernel)",
   "language": "python",
   "name": "python3"
  },
  "language_info": {
   "codemirror_mode": {
    "name": "ipython",
    "version": 3
   },
   "file_extension": ".py",
   "mimetype": "text/x-python",
   "name": "python",
   "nbconvert_exporter": "python",
   "pygments_lexer": "ipython3",
   "version": "3.11.5"
  }
 },
 "nbformat": 4,
 "nbformat_minor": 4
}
