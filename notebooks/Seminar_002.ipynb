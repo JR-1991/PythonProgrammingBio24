{
 "cells": [
  {
   "cell_type": "markdown",
   "id": "b6a728b2-fc2f-40d4-ada3-a876cdac0999",
   "metadata": {},
   "source": [
    "# Seminar 002: Import and handling of sequence data"
   ]
  },
  {
   "cell_type": "markdown",
   "id": "59edea57-c0dd-422f-a1fc-907e9cf45a5e",
   "metadata": {},
   "source": [
    "<a href=\"https://colab.research.google.com/github/JR-1991/PythonProgrammingBio24/blob/main/notebooks/Seminar_002.ipynb\" target=\"_parent\"><img src=\"https://colab.research.google.com/assets/colab-badge.svg\" alt=\"Open In Colab\"/></a>\n"
   ]
  },
  {
   "cell_type": "markdown",
   "id": "a8096bf6-a7f2-4345-91c1-e8ce8154646c",
   "metadata": {},
   "source": [
    "------"
   ]
  },
  {
   "cell_type": "markdown",
   "id": "0ecaf7e7-31a0-4e10-8e37-f4935402ce76",
   "metadata": {},
   "source": [
    "## Notes"
   ]
  },
  {
   "cell_type": "code",
   "execution_count": 1,
   "id": "188a255c-cdf1-4d36-ba34-453305a59c6f",
   "metadata": {},
   "outputs": [],
   "source": [
    "# Not important for seminar 002 --> ignore\n",
    "import numpy as np\n",
    "import pandas as pd"
   ]
  },
  {
   "cell_type": "markdown",
   "id": "1348f1b6-6263-46c6-87ae-a15755908d16",
   "metadata": {
    "tags": []
   },
   "source": [
    "## Clean code"
   ]
  },
  {
   "cell_type": "markdown",
   "id": "140586c5-ac3d-4203-99a8-9db029ec90e3",
   "metadata": {
    "tags": []
   },
   "source": [
    "### Naming variables"
   ]
  },
  {
   "cell_type": "markdown",
   "id": "bcf9ce7a-b092-49e5-9c03-30d1008676dd",
   "metadata": {},
   "source": [
    "The naming of variables is easily one of the most difficult tasks in programming - Believe it or not. Names provide context in almost all cases and help you and others to fully understand code. More than often, poor naming can result in you or anyone else not understanding what code does and thus extra work.\n",
    "\n",
    "Try to name as explicit as necessary and as short as possible. Abbreviation are not always a good choice, as not everyone is aware of the full form. In the following, find two examples that demonstrate the importance of proper variable names."
   ]
  },
  {
   "cell_type": "markdown",
   "id": "f77ba1e7-3551-4d40-85f6-4b8dcc33bb72",
   "metadata": {
    "tags": []
   },
   "source": [
    "### Which one is easier to understand?"
   ]
  },
  {
   "cell_type": "markdown",
   "id": "d98d1688-d4d0-4c75-9d46-26aecbbc5dc8",
   "metadata": {
    "tags": []
   },
   "source": [
    "#### Example A"
   ]
  },
  {
   "cell_type": "code",
   "execution_count": null,
   "id": "cd76809f-b484-41fe-982d-e6c9381576b0",
   "metadata": {},
   "outputs": [],
   "source": [
    "x = pd.read_csv(\"Test.csv\")\n",
    "s = x[\"s\"]\n",
    "i = x[\"i\"]\n",
    "c = x[\"c\"]\n",
    "\n",
    "lc = np.log(c)\n",
    "\n",
    "print(lc.to_list())"
   ]
  },
  {
   "cell_type": "markdown",
   "id": "a0f94582-6435-4b3d-acc1-ed93f85957a2",
   "metadata": {
    "tags": []
   },
   "source": [
    "#### Example B"
   ]
  },
  {
   "cell_type": "code",
   "execution_count": null,
   "id": "97e08d83-f48f-4007-b022-2e4879faa08c",
   "metadata": {
    "tags": []
   },
   "outputs": [],
   "source": [
    "dataset = pd.read_csv(\"Test.csv\")\n",
    "sequences = dataset[\"s\"]\n",
    "identifiers = dataset[\"i\"]\n",
    "concentrations = dataset[\"c\"]\n",
    "\n",
    "log_conc = np.log(concentrations)\n",
    "\n",
    "print(log_conc.to_list())"
   ]
  },
  {
   "cell_type": "markdown",
   "id": "59bf1fb6-9aeb-4fc1-b310-77878836b5ae",
   "metadata": {
    "jupyter": {
     "source_hidden": true
    },
    "tags": []
   },
   "source": [
    "### Overriding internals"
   ]
  },
  {
   "cell_type": "markdown",
   "id": "0c28f731-bf96-47e4-91ed-261475131b9c",
   "metadata": {},
   "source": [
    "**Be careful not to use internals as names**\n",
    "\n",
    "Once a variable is named similar to any internal function, the functionality will be globally overriden. Here is an example:\n",
    "\n",
    "```python\n",
    "dict = 10\n",
    "\n",
    "# Now trying to use `dict`wont work\n",
    "my_dict = dict(a=10)\n",
    "\n",
    "--> Error!\n",
    "```"
   ]
  },
  {
   "cell_type": "markdown",
   "id": "15c9899c-d830-4cc2-9f94-2e5d8e9d3b9f",
   "metadata": {
    "tags": []
   },
   "source": [
    "### Reduce redundancies\n",
    "\n",
    "Organizing yourself with variables is a good thing! But with everything else, there can be too much. Scattering many variables across a script/software can lead to chaos sometimes, especially when a variable is only used once. In the latter case, try to keep them at their dedicated place and only define those variables that are crucial to the flow of a program. Also, make sure that you are not overriding variables by accident. See the following two examples as a demonstration."
   ]
  },
  {
   "cell_type": "markdown",
   "id": "b390f2b8-a4e6-45f3-bde4-09351fe8e8d6",
   "metadata": {
    "tags": []
   },
   "source": [
    "#### Example A"
   ]
  },
  {
   "cell_type": "code",
   "execution_count": null,
   "id": "5a754dbf-d559-4b04-bc67-86ad69d6eee9",
   "metadata": {},
   "outputs": [],
   "source": [
    "start = 10\n",
    "end = 20\n",
    "increment = 1\n",
    "value = 0\n",
    "values = range(start, end, increment)\n",
    "\n",
    "for i in values:\n",
    "    value = i\n",
    "    print(value)"
   ]
  },
  {
   "cell_type": "markdown",
   "id": "7e45995e-35ab-4970-8294-eedb40a8e9b6",
   "metadata": {
    "tags": []
   },
   "source": [
    "#### Example B"
   ]
  },
  {
   "cell_type": "code",
   "execution_count": null,
   "id": "24b0bf38-9946-42b1-8ed1-959358f6fe80",
   "metadata": {},
   "outputs": [],
   "source": [
    "start = 10\n",
    "end = 20\n",
    "\n",
    "for value in range(start=start, end=end, 1):\n",
    "    print(value)"
   ]
  },
  {
   "cell_type": "markdown",
   "id": "cc06d631-9ad2-42fc-ad27-8fef43c119a2",
   "metadata": {
    "tags": []
   },
   "source": [
    "### Try to generalize\n",
    "\n",
    "Most of the time it is fine to hard-code (explicitly) implement program logic, yet this greatly impacts the flexibility of your code. For instance, when we develop research code, we want others to reuse our work, but if it is only catered to our special case no one can make a use out of it. Thus, try to find a general theme in your code and develop it towards a broader spectrum - If possible of course!\n",
    "\n",
    "Attention though, generalisation is something to strive for, but takes multiple iterations. Thus, try to solve a specific problem first and work your way towards a general solution. Here is an example on how one could progress towards generalisation."
   ]
  },
  {
   "cell_type": "markdown",
   "id": "5423d5fb-f4dd-408c-9656-d4641d6d0ff1",
   "metadata": {
    "tags": []
   },
   "source": [
    "#### Example A: Works fine here!"
   ]
  },
  {
   "cell_type": "code",
   "execution_count": null,
   "id": "da606026-e9ec-4daa-9a0f-824aedc446c7",
   "metadata": {},
   "outputs": [],
   "source": [
    "# Our initial code\n",
    "for i in range(1, 10):\n",
    "    print(i % 2, end=\" remainder - is \")\n",
    "\n",
    "    if i % 2 == 1:\n",
    "        print(\"odd\")\n",
    "    else:\n",
    "        print(\"even\")"
   ]
  },
  {
   "cell_type": "markdown",
   "id": "a26674e3-6dd3-4d3e-bf6e-98f7bdc38029",
   "metadata": {
    "tags": []
   },
   "source": [
    "#### Example B: Problematic"
   ]
  },
  {
   "cell_type": "code",
   "execution_count": null,
   "id": "417067b7-ef9e-40fb-8639-b4ae1f00598a",
   "metadata": {},
   "outputs": [],
   "source": [
    "# We want to determine other remainders\n",
    "for i in range(1, 10):\n",
    "    print(i % 3, end=\" remainder - is \")\n",
    "\n",
    "    if i % 3 == 1:\n",
    "        print(\"odd\")\n",
    "    else:\n",
    "        print(\"even\")"
   ]
  },
  {
   "cell_type": "code",
   "execution_count": null,
   "id": "b34437c2-6619-4d70-a68c-b5777e89616a",
   "metadata": {},
   "outputs": [],
   "source": [
    "# We may modify\n",
    "for i in range(1, 10):\n",
    "    print(i % 3, end=\" remainder - is \")\n",
    "\n",
    "    if i % 3 == 1:\n",
    "        print(\"odd\")\n",
    "    elif i % 3 == 2:\n",
    "        print(\"odd\")\n",
    "    else:\n",
    "        print(\"even\")"
   ]
  },
  {
   "cell_type": "markdown",
   "id": "f4134a1a-0c32-4259-b4bd-7564459be835",
   "metadata": {
    "tags": []
   },
   "source": [
    "#### Example C: Generalization"
   ]
  },
  {
   "cell_type": "code",
   "execution_count": null,
   "id": "08948a5a-83bc-48b8-9ca3-4e74206f8b3c",
   "metadata": {},
   "outputs": [],
   "source": [
    "# Works all the time\n",
    "number = 7\n",
    "for i in range(1, 20, 1):\n",
    "\n",
    "    if i % number == 0:\n",
    "        print(f\"Divisible by {number}\")\n",
    "    else:\n",
    "        print(f\"Not divisible by {number}\")"
   ]
  },
  {
   "cell_type": "markdown",
   "id": "930911b3-a766-4510-bb51-3017e57163c7",
   "metadata": {
    "tags": []
   },
   "source": [
    "## Python technicalities"
   ]
  },
  {
   "cell_type": "markdown",
   "id": "9b7748cf-217a-4be9-95c3-2577fff6c0e7",
   "metadata": {
    "tags": []
   },
   "source": [
    "### Variable scope\n",
    "\n",
    "Be careful of variables that are overriden by other Python routines. For instance, defining a variable `value` before entering a loop with the same intermediate variable will end up resulting in overriding your original variable."
   ]
  },
  {
   "cell_type": "code",
   "execution_count": 3,
   "id": "64857b61-1b8f-4e30-9cc9-ca65c3b6ca9a",
   "metadata": {},
   "outputs": [
    {
     "name": "stdout",
     "output_type": "stream",
     "text": [
      "4\n"
     ]
    }
   ],
   "source": [
    "value = \"Nothing here\"\n",
    "for value in range(1, 5):\n",
    "    pass\n",
    "\n",
    "# What do you expect?\n",
    "print(value)"
   ]
  },
  {
   "cell_type": "markdown",
   "id": "5a25b5a1-3b05-40e3-a18c-3400810f2460",
   "metadata": {
    "tags": []
   },
   "source": [
    "### File handling\n",
    "\n",
    "It is important to understand, that when reading files in Python, these are usually returned as `string` or `bytes`. Hence, when you want to use i.e. numbers from a file, it is important to use type casting to retrieve the correct type."
   ]
  },
  {
   "cell_type": "code",
   "execution_count": null,
   "id": "0da607f1-1475-4e7f-88d8-95c191f27019",
   "metadata": {},
   "outputs": [],
   "source": [
    "with open(\"my_file.txt\", \"w\") as file:\n",
    "    # File is open now\n",
    "\n",
    "    for number in [1, 2, 3, 4, 5]:\n",
    "        file.write(f\"{str(number)}\\n\")\n",
    "\n",
    "# Read file\n",
    "numbers = [line.strip() for line in open(\"my_file.txt\", \"r\")]\n",
    "\n",
    "# What do you expect?\n",
    "print(type(numbers[0]))"
   ]
  },
  {
   "cell_type": "code",
   "execution_count": null,
   "id": "772f1db9-567f-42c2-b90a-b8038ec8d58d",
   "metadata": {},
   "outputs": [],
   "source": [
    "# Type casting is important\n",
    "numbers = [int(line.strip()) for line in open(\"my_file.txt\", \"r\")]\n",
    "\n",
    "# What do you expect?\n",
    "print(type(numbers[0]))"
   ]
  },
  {
   "cell_type": "markdown",
   "id": "a540f15f-fc6f-4548-b050-c2794eb7d0d4",
   "metadata": {
    "tags": []
   },
   "source": [
    "### List comprehensions\n",
    "\n",
    "Writing `for`-loops can take up important space in code and luckily Python provides so called list comprehensions to help reduce the lines of code necessary. You can nest these as deep as you like, but be careful, there are limits that will result in even less readable code. In the following are two examples, where one is valid and the other invalid (hard to understand). "
   ]
  },
  {
   "cell_type": "code",
   "execution_count": null,
   "id": "15d4e7b5-ec68-42a8-87eb-f2a8fec307a9",
   "metadata": {},
   "outputs": [],
   "source": [
    "# Valid usage\n",
    "my_list = [value for value in range(1, 10) if value % 2 == 0]"
   ]
  },
  {
   "cell_type": "code",
   "execution_count": null,
   "id": "3e6c2fe6-3ba2-4289-810f-0925073ba514",
   "metadata": {},
   "outputs": [],
   "source": [
    "# Invalid usage\n",
    "my_list = [\n",
    "    (value**power - substraction)\n",
    "    for value in [1, 2, 3, 4, 5]\n",
    "    for power in [5, 2, 3, 4, 5]\n",
    "    for substraction in [-1, 2, 10, 2, 10]\n",
    "]\n",
    "\n",
    "# Better\n",
    "values = [1, 2, 3, 4, 5]\n",
    "powers = [5, 2, 3, 4, 5]\n",
    "substractions = [-1, 2, 10, 2, 10]\n",
    "my_list = []\n",
    "\n",
    "for val, powr, substr in zip(values, powers, substractions):\n",
    "    my_list.append(val**powr - substr)"
   ]
  }
 ],
 "metadata": {
  "kernelspec": {
   "display_name": "Python 3 (ipykernel)",
   "language": "python",
   "name": "python3"
  },
  "language_info": {
   "codemirror_mode": {
    "name": "ipython",
    "version": 3
   },
   "file_extension": ".py",
   "mimetype": "text/x-python",
   "name": "python",
   "nbconvert_exporter": "python",
   "pygments_lexer": "ipython3",
   "version": "3.11.5"
  }
 },
 "nbformat": 4,
 "nbformat_minor": 5
}
