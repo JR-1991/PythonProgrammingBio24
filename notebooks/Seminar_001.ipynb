{
 "cells": [
  {
   "cell_type": "markdown",
   "id": "b6a728b2-fc2f-40d4-ada3-a876cdac0999",
   "metadata": {
    "id": "b6a728b2-fc2f-40d4-ada3-a876cdac0999"
   },
   "source": [
    "# Seminar 001: Python fundamentals"
   ]
  },
  {
   "cell_type": "markdown",
   "id": "07bf3fd3",
   "metadata": {
    "colab_type": "text",
    "id": "view-in-github"
   },
   "source": [
    "<a href=\"https://colab.research.google.com/github/JR-1991/PythonProgrammingBio24/blob/main/notebooks/Seminar_001.ipynb\" target=\"_parent\"><img src=\"https://colab.research.google.com/assets/colab-badge.svg\" alt=\"Open In Colab\"/></a>"
   ]
  },
  {
   "cell_type": "markdown",
   "id": "a8096bf6-a7f2-4345-91c1-e8ce8154646c",
   "metadata": {
    "id": "a8096bf6-a7f2-4345-91c1-e8ce8154646c"
   },
   "source": [
    "------"
   ]
  },
  {
   "cell_type": "markdown",
   "id": "8f4c3af9-a909-411f-ba4d-78d269cdb447",
   "metadata": {
    "id": "8f4c3af9-a909-411f-ba4d-78d269cdb447"
   },
   "source": [
    "## Welcome to Jupyter!\n",
    "\n",
    "Jupyter is a coding environment that combines __documentation__ and __code__ which is very suitable for micropublications and to explain code. It is a new fundamental in scientific scripting that aids reproduciblity. Ultimately, Jupyter can help understanding what has been done better than a plain script.\n",
    "\n",
    "There are two types of cells:\n",
    "\n",
    "- __Code:__ Here the actual code will be executed\n",
    "- __Markdown:__ Explanations and any kind of text that helps understanding the code\n",
    "\n",
    "Each __code cell__ can be executed individually by using the __play-button__ or the key-combo `shift` + `enter`. New cells can be added by using the __plus-button (+)__ or the key-combo `alt` + `enter` which will execute the current cell and add a new one."
   ]
  },
  {
   "cell_type": "markdown",
   "id": "1348f1b6-6263-46c6-87ae-a15755908d16",
   "metadata": {
    "id": "1348f1b6-6263-46c6-87ae-a15755908d16"
   },
   "source": [
    "## Using Python as a calculator"
   ]
  },
  {
   "cell_type": "code",
   "execution_count": null,
   "id": "a9f887b5-8065-416f-bc99-a7d8e02ea251",
   "metadata": {
    "id": "a9f887b5-8065-416f-bc99-a7d8e02ea251"
   },
   "outputs": [],
   "source": []
  },
  {
   "cell_type": "markdown",
   "id": "f44bdbad-1b48-465f-9d06-57f8796f1f24",
   "metadata": {
    "id": "f44bdbad-1b48-465f-9d06-57f8796f1f24"
   },
   "source": [
    "## Variables"
   ]
  },
  {
   "cell_type": "markdown",
   "id": "1d367e90-9724-4b37-99b3-fb283ff0ddbd",
   "metadata": {
    "id": "1d367e90-9724-4b37-99b3-fb283ff0ddbd",
    "tags": []
   },
   "source": [
    "- Variables act as \"sticky notes\" attached to any kind of data or result\n",
    "- Most essential concept in programming\n",
    "- Can be accessed later on by using the variables name\n",
    "- Make sure to name your variable by its content"
   ]
  },
  {
   "cell_type": "code",
   "execution_count": null,
   "id": "960efdca-21ca-45c7-b2d3-12b17250a511",
   "metadata": {
    "id": "960efdca-21ca-45c7-b2d3-12b17250a511"
   },
   "outputs": [],
   "source": []
  },
  {
   "cell_type": "markdown",
   "id": "edd7a508-3d2a-4312-b484-2270d21512ed",
   "metadata": {
    "id": "edd7a508-3d2a-4312-b484-2270d21512ed"
   },
   "source": [
    "## Data Types"
   ]
  },
  {
   "cell_type": "markdown",
   "id": "f8c6260a-50e0-44f4-b3e3-97df6e6f9a5d",
   "metadata": {
    "id": "f8c6260a-50e0-44f4-b3e3-97df6e6f9a5d",
    "tags": []
   },
   "source": [
    "- Numbers: Integers (int) and Floating Point Numbers (float)\n",
    "- Strings: Collection of multiple characters (str)"
   ]
  },
  {
   "cell_type": "code",
   "execution_count": null,
   "id": "217d35fd-968a-4246-a1ee-cc4e754fa4d4",
   "metadata": {
    "id": "217d35fd-968a-4246-a1ee-cc4e754fa4d4"
   },
   "outputs": [],
   "source": []
  },
  {
   "cell_type": "markdown",
   "id": "0c274eaf-567d-4ee5-8e4a-c60c1a5c4fc3",
   "metadata": {
    "id": "0c274eaf-567d-4ee5-8e4a-c60c1a5c4fc3"
   },
   "source": [
    "## Lists"
   ]
  },
  {
   "cell_type": "markdown",
   "id": "7c652332-08ba-4a67-993f-f5f58a734fae",
   "metadata": {
    "id": "7c652332-08ba-4a67-993f-f5f58a734fae",
    "tags": []
   },
   "source": [
    "- Contains a sequence of arbitrary data types\n",
    "- Started with `[` followd by comma-separated entries and closed by `]`\n",
    "- Individual entries can be accessed using `int` indicies (`my_list[0]` for the first entry)\n",
    "- Order is important"
   ]
  },
  {
   "cell_type": "code",
   "execution_count": null,
   "id": "3b9d7722-2810-4142-97d6-c20bb203e0ab",
   "metadata": {
    "id": "3b9d7722-2810-4142-97d6-c20bb203e0ab"
   },
   "outputs": [],
   "source": []
  },
  {
   "cell_type": "markdown",
   "id": "043d6468-95df-449c-a287-ff61c295346c",
   "metadata": {
    "id": "043d6468-95df-449c-a287-ff61c295346c"
   },
   "source": [
    "## Dictionaries"
   ]
  },
  {
   "cell_type": "markdown",
   "id": "6c0b8223-4163-4df3-bfa3-3ecc304e8261",
   "metadata": {
    "id": "6c0b8223-4163-4df3-bfa3-3ecc304e8261",
    "tags": []
   },
   "source": [
    "- Mapping from a `key` to a `value`\n",
    "- Can be regarded as a collection of \"sticky notes\"\n",
    "- Behaves similar to a list, but that the indices are generalized to custom indices\n",
    "- Order is not important"
   ]
  },
  {
   "cell_type": "code",
   "execution_count": null,
   "id": "31c7ec71-f879-461c-b37a-8390c07cb34b",
   "metadata": {
    "id": "31c7ec71-f879-461c-b37a-8390c07cb34b"
   },
   "outputs": [],
   "source": []
  },
  {
   "cell_type": "markdown",
   "id": "0691a453-62ee-45cd-9dc2-101841822952",
   "metadata": {
    "id": "0691a453-62ee-45cd-9dc2-101841822952",
    "tags": []
   },
   "source": [
    "## For-loops"
   ]
  },
  {
   "cell_type": "markdown",
   "id": "805da471-34e4-43fe-a5b2-ae4eb76e1d6b",
   "metadata": {
    "id": "805da471-34e4-43fe-a5b2-ae4eb76e1d6b",
    "jp-MarkdownHeadingCollapsed": true,
    "tags": []
   },
   "source": [
    "<center><img src=\"https://media.geeksforgeeks.org/wp-content/uploads/20191101172216/for-loop-python.jpg\" width=\"500\" height=\"500\"/></center>\n",
    "\n",
    "- Used to dynamically iterate over each entry in a list or dictionary\n",
    "- Helps solving the problem of individual accessing a list\n",
    "- Most used loop in Python and staright forward\n",
    "\n",
    "#### Procedure\n",
    "1. The for-loop \"pulls\" an entry per round from the list\n",
    "2. Stored in the \"variable scope\" to the name you've choosen e.g. `variable`\n",
    "3. Inside the \"body\" operations can be executed as usual\n",
    "\n",
    "#### Example\n",
    "\n",
    "```\n",
    "for variable in my_list:\n",
    "    # do something\n",
    "    print(variable * 2)\n",
    "```"
   ]
  },
  {
   "cell_type": "code",
   "execution_count": null,
   "id": "48a10ad7-85d3-441a-ab38-4b823e6a710a",
   "metadata": {
    "id": "48a10ad7-85d3-441a-ab38-4b823e6a710a"
   },
   "outputs": [],
   "source": []
  },
  {
   "cell_type": "markdown",
   "id": "8e9891c5-b667-4399-8189-b00b4d2946ac",
   "metadata": {
    "id": "8e9891c5-b667-4399-8189-b00b4d2946ac",
    "tags": []
   },
   "source": [
    "## While-loops"
   ]
  },
  {
   "cell_type": "markdown",
   "id": "216e5b19-97a0-414d-9983-6e9faea3f174",
   "metadata": {
    "id": "216e5b19-97a0-414d-9983-6e9faea3f174",
    "tags": []
   },
   "source": [
    "<center><img src=\"https://media.geeksforgeeks.org/wp-content/uploads/20191101170515/while-loop.jpg\" width=\"500\" height=\"500\"/></center>\n",
    "\n",
    "- Behaves similar to the for-loop\n",
    "- Stops whenever a specific condition is met, such as when a number is greater some value\n",
    "- Does __not__ pull entries from a list, thus it needs to be done manually\n",
    "- Needs a starting condition that is evaluated at each round\n",
    "- Can end up in an infinite loop\n",
    "- Rarely used and should only be considered when dealing with highly dynamic tasks\n",
    "\n",
    "#### Procedure\n",
    "\n",
    "1. Set up a starting condition and a termination condition\n",
    "2. Enter the body of the loop and perform the operation\n",
    "3. At the next iteration, the condition is tested\n",
    "4. If met, the loop continues. If not, the loop is terminated\n",
    "\n",
    "#### Example\n",
    "\n",
    "```\n",
    "index = 0\n",
    "\n",
    "while index <= 10:\n",
    "    print(index)\n",
    "    \n",
    "    # Index needs to be increased manually\n",
    "    index += 1\n",
    "```"
   ]
  },
  {
   "cell_type": "code",
   "execution_count": null,
   "id": "ea66208c-5e0a-4f11-b81a-7d4d21b95eff",
   "metadata": {
    "id": "ea66208c-5e0a-4f11-b81a-7d4d21b95eff"
   },
   "outputs": [],
   "source": []
  },
  {
   "cell_type": "markdown",
   "id": "04c01b16-b8f1-4b27-ad10-5d69daa94565",
   "metadata": {
    "id": "04c01b16-b8f1-4b27-ad10-5d69daa94565"
   },
   "source": [
    "## Conditions"
   ]
  },
  {
   "cell_type": "markdown",
   "id": "6c5fc8cd-e234-4ea9-9c64-ce14ab376781",
   "metadata": {
    "id": "6c5fc8cd-e234-4ea9-9c64-ce14ab376781",
    "tags": []
   },
   "source": [
    "- If-else statements are very important to deal with certain situations\n",
    "- Whenever a condition is met, the following code is executed\n",
    "- Optionally, an `else` statement can be used to deal with all situations that did not match the condition\n",
    "\n",
    "#### Using conditions wisely\n",
    "\n",
    "- Try to use as less as possible and as much as needed\n",
    "- Nesting too many `if`s is a sign of bad design\n",
    "- Sometimes it is helpful to deal with what you dont want (see [Guard clauses](https://medium.com/lemon-code/guard-clauses-3bc0cd96a2d3))"
   ]
  },
  {
   "cell_type": "code",
   "execution_count": null,
   "id": "79992e9a-fdd0-4cb0-978a-97674fd5b5f5",
   "metadata": {
    "id": "79992e9a-fdd0-4cb0-978a-97674fd5b5f5"
   },
   "outputs": [],
   "source": []
  },
  {
   "cell_type": "markdown",
   "id": "81ba9cca-9839-42a6-96a2-334fcaba6be3",
   "metadata": {
    "id": "81ba9cca-9839-42a6-96a2-334fcaba6be3"
   },
   "source": [
    "## Its all about the sauce"
   ]
  },
  {
   "cell_type": "markdown",
   "id": "bf641dbc-9fa6-4a44-90db-1b296cb2a3a7",
   "metadata": {
    "id": "bf641dbc-9fa6-4a44-90db-1b296cb2a3a7",
    "tags": []
   },
   "source": [
    "Navigating through the syntax jungle can be quite tempting and exhausting. However, most problems you will be confronted with have already been solved numerous times. Thus, knowing your __sources__ is the utmost important skill when programming. There are multiple sites where problems are discussed and solutions are given!\n",
    "\n",
    "#### Helpful sites\n",
    "\n",
    "- [StackOverflow](https://www.stackoverflow.com) - Probably the best site to search for help\n",
    "- [W3Schools Python](https://www.w3schools.com/python/) - Great overview of Pythons functionality\n",
    "- [PythonCheatSheet](https://www.pythoncheatsheet.org/) - Another great overview\n",
    "- [Google](https://www.google.com) - The most used tool in Software Development"
   ]
  }
 ],
 "metadata": {
  "colab": {
   "include_colab_link": true,
   "provenance": []
  },
  "kernelspec": {
   "display_name": "Python 3 (ipykernel)",
   "language": "python",
   "name": "python3"
  },
  "language_info": {
   "codemirror_mode": {
    "name": "ipython",
    "version": 3
   },
   "file_extension": ".py",
   "mimetype": "text/x-python",
   "name": "python",
   "nbconvert_exporter": "python",
   "pygments_lexer": "ipython3",
   "version": "3.11.5"
  }
 },
 "nbformat": 4,
 "nbformat_minor": 5
}
