{
 "cells": [
  {
   "cell_type": "markdown",
   "id": "b6a728b2-fc2f-40d4-ada3-a876cdac0999",
   "metadata": {
    "id": "b6a728b2-fc2f-40d4-ada3-a876cdac0999"
   },
   "source": [
    "# Seminar 001: Python fundamentals"
   ]
  },
  {
   "cell_type": "markdown",
   "id": "07bf3fd3",
   "metadata": {
    "id": "07bf3fd3"
   },
   "source": [
    "<a href=\"https://colab.research.google.com/github/JR-1991/PythonProgrammingBio24/blob/main/notebooks/Seminar_001.ipynb\" target=\"_parent\"><img src=\"https://colab.research.google.com/assets/colab-badge.svg\" alt=\"Open In Colab\"/></a>"
   ]
  },
  {
   "cell_type": "markdown",
   "id": "a8096bf6-a7f2-4345-91c1-e8ce8154646c",
   "metadata": {
    "id": "a8096bf6-a7f2-4345-91c1-e8ce8154646c"
   },
   "source": [
    "------"
   ]
  },
  {
   "cell_type": "markdown",
   "id": "8f4c3af9-a909-411f-ba4d-78d269cdb447",
   "metadata": {
    "id": "8f4c3af9-a909-411f-ba4d-78d269cdb447"
   },
   "source": [
    "## Welcome to Jupyter!\n",
    "\n",
    "Jupyter is a coding environment that combines __documentation__ and __code__ which is very suitable for micropublications and to explain code. It is a new fundamental in scientific scripting that aids reproduciblity. Ultimately, Jupyter can help understanding what has been done better than a plain script.\n",
    "\n",
    "There are two types of cells:\n",
    "\n",
    "- __Code:__ Here the actual code will be executed\n",
    "- __Markdown:__ Explanations and any kind of text that helps understanding the code\n",
    "\n",
    "Each __code cell__ can be executed individually by using the __play-button__ or the key-combo `shift` + `enter`. New cells can be added by using the __plus-button (+)__ or the key-combo `alt` + `enter` which will execute the current cell and add a new one."
   ]
  },
  {
   "cell_type": "markdown",
   "id": "1348f1b6-6263-46c6-87ae-a15755908d16",
   "metadata": {
    "id": "1348f1b6-6263-46c6-87ae-a15755908d16"
   },
   "source": [
    "## Using Python as a calculator"
   ]
  },
  {
   "cell_type": "code",
   "execution_count": 2,
   "id": "a9f887b5-8065-416f-bc99-a7d8e02ea251",
   "metadata": {
    "colab": {
     "base_uri": "https://localhost:8080/"
    },
    "id": "a9f887b5-8065-416f-bc99-a7d8e02ea251",
    "outputId": "3a303c00-4397-411b-d974-cd8725297013"
   },
   "outputs": [
    {
     "data": {
      "text/plain": [
       "4"
      ]
     },
     "execution_count": 2,
     "metadata": {},
     "output_type": "execute_result"
    }
   ],
   "source": [
    "2 * 2"
   ]
  },
  {
   "cell_type": "markdown",
   "id": "f44bdbad-1b48-465f-9d06-57f8796f1f24",
   "metadata": {
    "id": "f44bdbad-1b48-465f-9d06-57f8796f1f24"
   },
   "source": [
    "## Variables"
   ]
  },
  {
   "cell_type": "markdown",
   "id": "1d367e90-9724-4b37-99b3-fb283ff0ddbd",
   "metadata": {
    "id": "1d367e90-9724-4b37-99b3-fb283ff0ddbd",
    "tags": []
   },
   "source": [
    "- Variables act as \"sticky notes\" attached to any kind of data or result\n",
    "- Most essential concept in programming\n",
    "- Can be accessed later on by using the variables name\n",
    "- Make sure to name your variable by its content"
   ]
  },
  {
   "cell_type": "code",
   "execution_count": 3,
   "id": "960efdca-21ca-45c7-b2d3-12b17250a511",
   "metadata": {
    "id": "960efdca-21ca-45c7-b2d3-12b17250a511"
   },
   "outputs": [],
   "source": [
    "number = 2 * 2"
   ]
  },
  {
   "cell_type": "code",
   "execution_count": 5,
   "id": "L9IDLRMQPVBB",
   "metadata": {
    "colab": {
     "base_uri": "https://localhost:8080/"
    },
    "id": "L9IDLRMQPVBB",
    "outputId": "0fffea4b-d54d-4fa4-e82c-81dfb7a239f8"
   },
   "outputs": [
    {
     "data": {
      "text/plain": [
       "4"
      ]
     },
     "execution_count": 5,
     "metadata": {},
     "output_type": "execute_result"
    }
   ],
   "source": [
    "# Jupyter specific (needs to be at the end)\n",
    "number"
   ]
  },
  {
   "cell_type": "code",
   "execution_count": 7,
   "id": "0JktEh3mPhWa",
   "metadata": {
    "colab": {
     "base_uri": "https://localhost:8080/"
    },
    "id": "0JktEh3mPhWa",
    "outputId": "dfcaede6-8a3c-4351-e30e-e8075dbe47bb"
   },
   "outputs": [
    {
     "name": "stdout",
     "output_type": "stream",
     "text": [
      "4\n"
     ]
    }
   ],
   "source": [
    "# Print statement\n",
    "print(number)"
   ]
  },
  {
   "cell_type": "code",
   "execution_count": 8,
   "id": "kzWRGWc6PvRg",
   "metadata": {
    "colab": {
     "base_uri": "https://localhost:8080/"
    },
    "id": "kzWRGWc6PvRg",
    "outputId": "d944d6bf-7405-4930-9d13-fdcef7b92b79"
   },
   "outputs": [
    {
     "name": "stdout",
     "output_type": "stream",
     "text": [
      "This is the result:  4\n"
     ]
    }
   ],
   "source": [
    "# Overload the print statement\n",
    "print(\"This is the result: \", number)"
   ]
  },
  {
   "cell_type": "code",
   "execution_count": 10,
   "id": "q4o-rr3CQA_1",
   "metadata": {
    "colab": {
     "base_uri": "https://localhost:8080/"
    },
    "id": "q4o-rr3CQA_1",
    "outputId": "c3630555-90fb-49eb-c57a-7a5aed32b5fa"
   },
   "outputs": [
    {
     "name": "stdout",
     "output_type": "stream",
     "text": [
      "Multiplying the number by 'another_number':  80\n"
     ]
    }
   ],
   "source": [
    "# Combine variables\n",
    "another_number = 20\n",
    "\n",
    "print( \"Multiplying the number by 'another_number': \", number * another_number )"
   ]
  },
  {
   "cell_type": "code",
   "execution_count": 12,
   "id": "EDQhKrR2QcQD",
   "metadata": {
    "colab": {
     "base_uri": "https://localhost:8080/"
    },
    "id": "EDQhKrR2QcQD",
    "outputId": "feff2797-40ee-4097-ae53-b4758a34f5ba"
   },
   "outputs": [
    {
     "name": "stdout",
     "output_type": "stream",
     "text": [
      "Division:  4.0\n",
      "Exponent:  6400\n",
      "Modulo:  0\n"
     ]
    }
   ],
   "source": [
    "# Other operations\n",
    "\n",
    "# Division\n",
    "divided = 80 / another_number\n",
    "print(\"Division: \", divided)\n",
    "\n",
    "# Exponents\n",
    "exponent = 80 ** 2\n",
    "print(\"Exponent: \", exponent)\n",
    "\n",
    "# Modulo\n",
    "modulo = 80 % 2\n",
    "print(\"Modulo: \", modulo)"
   ]
  },
  {
   "cell_type": "markdown",
   "id": "edd7a508-3d2a-4312-b484-2270d21512ed",
   "metadata": {
    "id": "edd7a508-3d2a-4312-b484-2270d21512ed"
   },
   "source": [
    "## Data Types"
   ]
  },
  {
   "cell_type": "markdown",
   "id": "f8c6260a-50e0-44f4-b3e3-97df6e6f9a5d",
   "metadata": {
    "id": "f8c6260a-50e0-44f4-b3e3-97df6e6f9a5d",
    "tags": []
   },
   "source": [
    "- Numbers: Integers (int) and Floating Point Numbers (float)\n",
    "- Strings: Collection of multiple characters (str)"
   ]
  },
  {
   "cell_type": "code",
   "execution_count": 13,
   "id": "217d35fd-968a-4246-a1ee-cc4e754fa4d4",
   "metadata": {
    "colab": {
     "base_uri": "https://localhost:8080/"
    },
    "id": "217d35fd-968a-4246-a1ee-cc4e754fa4d4",
    "outputId": "6d6c4e1a-2f72-41ac-9dd7-f8ea11e95909"
   },
   "outputs": [
    {
     "name": "stdout",
     "output_type": "stream",
     "text": [
      "<class 'int'>\n"
     ]
    }
   ],
   "source": [
    "# Integer\n",
    "integer = 8\n",
    "\n",
    "print( type(integer) )"
   ]
  },
  {
   "cell_type": "code",
   "execution_count": 15,
   "id": "0JBgtbo4Snm2",
   "metadata": {
    "colab": {
     "base_uri": "https://localhost:8080/"
    },
    "id": "0JBgtbo4Snm2",
    "outputId": "d2908ef3-87dc-4bce-c70c-a89936c5b053"
   },
   "outputs": [
    {
     "name": "stdout",
     "output_type": "stream",
     "text": [
      "<class 'float'>\n"
     ]
    }
   ],
   "source": [
    "# Float\n",
    "floating_point = 8.0\n",
    "\n",
    "print( type(floating_point) )"
   ]
  },
  {
   "cell_type": "code",
   "execution_count": 16,
   "id": "Gt2DTTQeS-n1",
   "metadata": {
    "colab": {
     "base_uri": "https://localhost:8080/"
    },
    "id": "Gt2DTTQeS-n1",
    "outputId": "e6af3d12-7ce7-48be-aa2c-94e508cfd093"
   },
   "outputs": [
    {
     "name": "stdout",
     "output_type": "stream",
     "text": [
      "<class 'str'>\n"
     ]
    }
   ],
   "source": [
    "# Strings\n",
    "string = \"string\"\n",
    "\n",
    "print( type(string) )"
   ]
  },
  {
   "cell_type": "code",
   "execution_count": 17,
   "id": "lBvRG0p9TPoi",
   "metadata": {
    "colab": {
     "base_uri": "https://localhost:8080/",
     "height": 56
    },
    "id": "lBvRG0p9TPoi",
    "outputId": "0434ddeb-fee1-4440-dd6d-cd26f26c429b"
   },
   "outputs": [
    {
     "data": {
      "application/vnd.google.colaboratory.intrinsic+json": {
       "type": "string"
      },
      "text/plain": [
       "'Hello, World!'"
      ]
     },
     "execution_count": 17,
     "metadata": {},
     "output_type": "execute_result"
    }
   ],
   "source": [
    "# Doing operations with strings\n",
    "string1 = \"Hello, \"\n",
    "string2 = \"World!\"\n",
    "\n",
    "string1 + string2"
   ]
  },
  {
   "cell_type": "code",
   "execution_count": 18,
   "id": "4kQH1UflTdoB",
   "metadata": {
    "colab": {
     "base_uri": "https://localhost:8080/"
    },
    "id": "4kQH1UflTdoB",
    "outputId": "29fe29b4-661d-48cb-fe51-8c0b29d79557"
   },
   "outputs": [
    {
     "name": "stdout",
     "output_type": "stream",
     "text": [
      "First letter:  H\n"
     ]
    }
   ],
   "source": [
    "# Get sub-strings\n",
    "string = \"Hello, world!\"\n",
    "\n",
    "print(\"First letter: \", string[0])"
   ]
  },
  {
   "cell_type": "code",
   "execution_count": 20,
   "id": "jFH6IrqEUECD",
   "metadata": {
    "colab": {
     "base_uri": "https://localhost:8080/"
    },
    "id": "jFH6IrqEUECD",
    "outputId": "8d5c3c5e-b9b3-4257-8999-7b5d614d2843"
   },
   "outputs": [
    {
     "name": "stdout",
     "output_type": "stream",
     "text": [
      "This is the hello:  Hello\n"
     ]
    }
   ],
   "source": [
    "# Get the Hello sub-string\n",
    "print(\"This is the hello: \", string[0:5])"
   ]
  },
  {
   "cell_type": "code",
   "execution_count": 22,
   "id": "wWQnV_aOUkYz",
   "metadata": {
    "colab": {
     "base_uri": "https://localhost:8080/"
    },
    "id": "wWQnV_aOUkYz",
    "outputId": "aa3e2761-5d2f-4293-a5bc-a00038233829"
   },
   "outputs": [
    {
     "name": "stdout",
     "output_type": "stream",
     "text": [
      "Cast the float to an integer:  10\n"
     ]
    },
    {
     "data": {
      "text/plain": [
       "10"
      ]
     },
     "execution_count": 22,
     "metadata": {},
     "output_type": "execute_result"
    }
   ],
   "source": [
    "# Casting of data types\n",
    "floating_point = 10.6758\n",
    "\n",
    "print(\"Cast the float to an integer: \", int(floating_point))\n",
    "\n",
    "# The weird part of Python\n",
    "int(\"10\")"
   ]
  },
  {
   "cell_type": "code",
   "execution_count": 23,
   "id": "Tlz4wDvdU0id",
   "metadata": {
    "colab": {
     "base_uri": "https://localhost:8080/",
     "height": 179
    },
    "id": "Tlz4wDvdU0id",
    "outputId": "7a97900e-5aa3-4c1c-de05-136d7f65b7d6"
   },
   "outputs": [
    {
     "ename": "ValueError",
     "evalue": "invalid literal for int() with base 10: 'ten'",
     "output_type": "error",
     "traceback": [
      "\u001b[0;31m---------------------------------------------------------------------------\u001b[0m",
      "\u001b[0;31mValueError\u001b[0m                                Traceback (most recent call last)",
      "\u001b[0;32m<ipython-input-23-5db6fed51cc0>\u001b[0m in \u001b[0;36m<cell line: 2>\u001b[0;34m()\u001b[0m\n\u001b[1;32m      1\u001b[0m \u001b[0;31m# This cast does not work!\u001b[0m\u001b[0;34m\u001b[0m\u001b[0;34m\u001b[0m\u001b[0m\n\u001b[0;32m----> 2\u001b[0;31m \u001b[0mint\u001b[0m\u001b[0;34m(\u001b[0m\u001b[0;34m\"ten\"\u001b[0m\u001b[0;34m)\u001b[0m\u001b[0;34m\u001b[0m\u001b[0;34m\u001b[0m\u001b[0m\n\u001b[0m",
      "\u001b[0;31mValueError\u001b[0m: invalid literal for int() with base 10: 'ten'"
     ]
    }
   ],
   "source": [
    "# This cast does not work!\n",
    "int(\"ten\")"
   ]
  },
  {
   "cell_type": "markdown",
   "id": "0c274eaf-567d-4ee5-8e4a-c60c1a5c4fc3",
   "metadata": {
    "id": "0c274eaf-567d-4ee5-8e4a-c60c1a5c4fc3"
   },
   "source": [
    "## Lists"
   ]
  },
  {
   "cell_type": "markdown",
   "id": "7c652332-08ba-4a67-993f-f5f58a734fae",
   "metadata": {
    "id": "7c652332-08ba-4a67-993f-f5f58a734fae",
    "tags": []
   },
   "source": [
    "- Contains a sequence of arbitrary data types\n",
    "- Started with `[` followd by comma-separated entries and closed by `]`\n",
    "- Individual entries can be accessed using `int` indicies (`my_list[0]` for the first entry)\n",
    "- Order is important"
   ]
  },
  {
   "cell_type": "code",
   "execution_count": 25,
   "id": "3b9d7722-2810-4142-97d6-c20bb203e0ab",
   "metadata": {
    "id": "3b9d7722-2810-4142-97d6-c20bb203e0ab"
   },
   "outputs": [],
   "source": [
    "# You were in the lab and recorded a measurement\n",
    "time1 = 0.0\n",
    "time2 = 2.0\n",
    "time3 = 5.0"
   ]
  },
  {
   "cell_type": "code",
   "execution_count": 27,
   "id": "5DfgQSw5VwXA",
   "metadata": {
    "colab": {
     "base_uri": "https://localhost:8080/"
    },
    "id": "5DfgQSw5VwXA",
    "outputId": "a8be2cf4-bc7d-488e-ec68-98e3e1de6ec4"
   },
   "outputs": [
    {
     "name": "stdout",
     "output_type": "stream",
     "text": [
      "[0.0, 2.0, 5.0]\n"
     ]
    }
   ],
   "source": [
    "# Lists are arrays of things\n",
    "measurement = [ 0.0, 2.0, 5.0 ]\n",
    "\n",
    "print(measurement)"
   ]
  },
  {
   "cell_type": "code",
   "execution_count": 29,
   "id": "u-x5j7veWGTH",
   "metadata": {
    "colab": {
     "base_uri": "https://localhost:8080/"
    },
    "id": "u-x5j7veWGTH",
    "outputId": "d8850f6c-f40f-46c4-c426-ee70d659c473"
   },
   "outputs": [
    {
     "name": "stdout",
     "output_type": "stream",
     "text": [
      "First element:  0.0\n"
     ]
    }
   ],
   "source": [
    "print(\"First element: \", measurement[0])"
   ]
  },
  {
   "cell_type": "code",
   "execution_count": 30,
   "id": "BQR5fRSHWUUf",
   "metadata": {
    "colab": {
     "base_uri": "https://localhost:8080/"
    },
    "id": "BQR5fRSHWUUf",
    "outputId": "74d103ca-e88b-4abb-b3c9-ecca8e16e1c2"
   },
   "outputs": [
    {
     "name": "stdout",
     "output_type": "stream",
     "text": [
      "First to second element:  [0.0, 2.0]\n"
     ]
    }
   ],
   "source": [
    "print(\"First to second element: \", measurement[0:2])"
   ]
  },
  {
   "cell_type": "code",
   "execution_count": 31,
   "id": "aJzB_O0rWbZG",
   "metadata": {
    "colab": {
     "base_uri": "https://localhost:8080/"
    },
    "id": "aJzB_O0rWbZG",
    "outputId": "89a4cca5-2a53-4e94-9b1f-e9d3367bc228"
   },
   "outputs": [
    {
     "name": "stdout",
     "output_type": "stream",
     "text": [
      "After appending:  [0.0, 2.0, 5.0, 10.0]\n"
     ]
    }
   ],
   "source": [
    "# Adding things to lists\n",
    "measurement.append(10.0)\n",
    "\n",
    "print(\"After appending: \", measurement)"
   ]
  },
  {
   "cell_type": "code",
   "execution_count": 32,
   "id": "EK8ZYuTVWzXV",
   "metadata": {
    "colab": {
     "base_uri": "https://localhost:8080/"
    },
    "id": "EK8ZYuTVWzXV",
    "outputId": "fd55c251-c302-4580-8996-7152505120cc"
   },
   "outputs": [
    {
     "name": "stdout",
     "output_type": "stream",
     "text": [
      "After appending:  [0.0, 2.0, 5.0, 10.0, 'Feierabend!']\n"
     ]
    }
   ],
   "source": [
    "# We can add whatever we want\n",
    "# It is not type specific!\n",
    "measurement.append(\"Feierabend!\")\n",
    "\n",
    "print(\"After appending: \", measurement)"
   ]
  },
  {
   "cell_type": "code",
   "execution_count": 34,
   "id": "vcVCQmOUXNIE",
   "metadata": {
    "colab": {
     "base_uri": "https://localhost:8080/"
    },
    "id": "vcVCQmOUXNIE",
    "outputId": "9e7b757c-2085-4027-9038-4e22f9845110"
   },
   "outputs": [
    {
     "name": "stdout",
     "output_type": "stream",
     "text": [
      "The last element:  Feierabend!\n"
     ]
    }
   ],
   "source": [
    "# Extract the last element of a list\n",
    "print(\"The last element: \", measurement[-1])"
   ]
  },
  {
   "cell_type": "markdown",
   "id": "043d6468-95df-449c-a287-ff61c295346c",
   "metadata": {
    "id": "043d6468-95df-449c-a287-ff61c295346c"
   },
   "source": [
    "## Dictionaries"
   ]
  },
  {
   "cell_type": "markdown",
   "id": "6c0b8223-4163-4df3-bfa3-3ecc304e8261",
   "metadata": {
    "id": "6c0b8223-4163-4df3-bfa3-3ecc304e8261",
    "tags": []
   },
   "source": [
    "- Mapping from a `key` to a `value`\n",
    "- Can be regarded as a collection of \"sticky notes\"\n",
    "- Behaves similar to a list, but that the indices are generalized to custom indices\n",
    "- Order is not important"
   ]
  },
  {
   "cell_type": "code",
   "execution_count": 37,
   "id": "31c7ec71-f879-461c-b37a-8390c07cb34b",
   "metadata": {
    "colab": {
     "base_uri": "https://localhost:8080/"
    },
    "id": "31c7ec71-f879-461c-b37a-8390c07cb34b",
    "outputId": "fbad7cbb-7d63-4526-96fb-cc3ae3dd6e61"
   },
   "outputs": [
    {
     "name": "stdout",
     "output_type": "stream",
     "text": [
      "Jan\n"
     ]
    }
   ],
   "source": [
    "# Dict is a generlization of a list\n",
    "# list[1] = something\n",
    "metadata = {\"name\": \"Jan\"}\n",
    "\n",
    "print(metadata[\"name\"])"
   ]
  },
  {
   "cell_type": "code",
   "execution_count": 38,
   "id": "H-SOa4qUYGMk",
   "metadata": {
    "colab": {
     "base_uri": "https://localhost:8080/"
    },
    "id": "H-SOa4qUYGMk",
    "outputId": "c47abeff-28fd-4857-9791-f622321cc0aa"
   },
   "outputs": [
    {
     "name": "stdout",
     "output_type": "stream",
     "text": [
      "First entry:  0.0\n"
     ]
    }
   ],
   "source": [
    "# Lets implement a list as a dict\n",
    "fake_list = {0: 0.0, 1: 2.0}\n",
    "\n",
    "print(\"First entry: \", fake_list[0])"
   ]
  },
  {
   "cell_type": "markdown",
   "id": "0691a453-62ee-45cd-9dc2-101841822952",
   "metadata": {
    "id": "0691a453-62ee-45cd-9dc2-101841822952",
    "tags": []
   },
   "source": [
    "## For-loops"
   ]
  },
  {
   "cell_type": "markdown",
   "id": "805da471-34e4-43fe-a5b2-ae4eb76e1d6b",
   "metadata": {
    "id": "805da471-34e4-43fe-a5b2-ae4eb76e1d6b",
    "jp-MarkdownHeadingCollapsed": true,
    "tags": []
   },
   "source": [
    "<center><img src=\"https://media.geeksforgeeks.org/wp-content/uploads/20191101172216/for-loop-python.jpg\" width=\"500\" height=\"500\"/></center>\n",
    "\n",
    "- Used to dynamically iterate over each entry in a list or dictionary\n",
    "- Helps solving the problem of individual accessing a list\n",
    "- Most used loop in Python and staright forward\n",
    "\n",
    "#### Procedure\n",
    "1. The for-loop \"pulls\" an entry per round from the list\n",
    "2. Stored in the \"variable scope\" to the name you've choosen e.g. `variable`\n",
    "3. Inside the \"body\" operations can be executed as usual\n",
    "\n",
    "#### Example\n",
    "\n",
    "```\n",
    "for variable in my_list:\n",
    "    # do something\n",
    "    print(variable * 2)\n",
    "```"
   ]
  },
  {
   "cell_type": "code",
   "execution_count": 39,
   "id": "48a10ad7-85d3-441a-ab38-4b823e6a710a",
   "metadata": {
    "colab": {
     "base_uri": "https://localhost:8080/",
     "height": 196
    },
    "id": "48a10ad7-85d3-441a-ab38-4b823e6a710a",
    "outputId": "885fb088-58c8-4789-f81a-8aa8358262c1"
   },
   "outputs": [
    {
     "ename": "IndexError",
     "evalue": "list index out of range",
     "output_type": "error",
     "traceback": [
      "\u001b[0;31m---------------------------------------------------------------------------\u001b[0m",
      "\u001b[0;31mIndexError\u001b[0m                                Traceback (most recent call last)",
      "\u001b[0;32m<ipython-input-39-cee00ed135c6>\u001b[0m in \u001b[0;36m<cell line: 6>\u001b[0;34m()\u001b[0m\n\u001b[1;32m      4\u001b[0m \u001b[0mmeasurement\u001b[0m\u001b[0;34m[\u001b[0m\u001b[0;36m0\u001b[0m\u001b[0;34m]\u001b[0m\u001b[0;34m\u001b[0m\u001b[0;34m\u001b[0m\u001b[0m\n\u001b[1;32m      5\u001b[0m \u001b[0mmeasurement\u001b[0m\u001b[0;34m[\u001b[0m\u001b[0;36m1\u001b[0m\u001b[0;34m]\u001b[0m\u001b[0;34m\u001b[0m\u001b[0;34m\u001b[0m\u001b[0m\n\u001b[0;32m----> 6\u001b[0;31m \u001b[0mmeasurement\u001b[0m\u001b[0;34m[\u001b[0m\u001b[0;36m6\u001b[0m\u001b[0;34m]\u001b[0m\u001b[0;34m\u001b[0m\u001b[0;34m\u001b[0m\u001b[0m\n\u001b[0m",
      "\u001b[0;31mIndexError\u001b[0m: list index out of range"
     ]
    }
   ],
   "source": [
    "# Access values in a list\n",
    "measurement = [0.0, 2.0, 5.0, 10.0]\n",
    "\n",
    "measurement[0]\n",
    "measurement[1]\n",
    "measurement[6]\n"
   ]
  },
  {
   "cell_type": "code",
   "execution_count": 45,
   "id": "B1cu2XqmZETf",
   "metadata": {
    "colab": {
     "base_uri": "https://localhost:8080/"
    },
    "id": "B1cu2XqmZETf",
    "outputId": "27713b80-83c8-412b-d68c-0aedc1140f47"
   },
   "outputs": [
    {
     "name": "stdout",
     "output_type": "stream",
     "text": [
      "Current number:  0.0\n",
      "Do something:  0.0\n",
      "Current number:  2.0\n",
      "Do something:  20.0\n",
      "Current number:  5.0\n",
      "Do something:  50.0\n",
      "Current number:  10.0\n",
      "Do something:  100.0\n",
      "Unindented:  10.0\n"
     ]
    }
   ],
   "source": [
    "# Use a for loop!\n",
    "for number in measurement:\n",
    "  print(\"Current number: \", number)\n",
    "  print(\"Do something: \", number * 10)\n",
    "\n",
    "print(\"Unindented: \", number)"
   ]
  },
  {
   "cell_type": "code",
   "execution_count": 56,
   "id": "Niwx9AVueyTy",
   "metadata": {
    "colab": {
     "base_uri": "https://localhost:8080/",
     "height": 127
    },
    "id": "Niwx9AVueyTy",
    "outputId": "6ef19236-58a1-4a0a-8d2a-24281d566498"
   },
   "outputs": [
    {
     "ename": "IndentationError",
     "evalue": "expected an indented block after 'for' statement on line 3 (<ipython-input-56-a79a2f00f890>, line 4)",
     "output_type": "error",
     "traceback": [
      "\u001b[0;36m  File \u001b[0;32m\"<ipython-input-56-a79a2f00f890>\"\u001b[0;36m, line \u001b[0;32m4\u001b[0m\n\u001b[0;31m    print(number)\u001b[0m\n\u001b[0m    ^\u001b[0m\n\u001b[0;31mIndentationError\u001b[0m\u001b[0;31m:\u001b[0m expected an indented block after 'for' statement on line 3\n"
     ]
    }
   ],
   "source": [
    "# Dont forget indenting! This does not work\n",
    "\n",
    "for number in measurement:\n",
    "print(number)"
   ]
  },
  {
   "cell_type": "markdown",
   "id": "8e9891c5-b667-4399-8189-b00b4d2946ac",
   "metadata": {
    "id": "8e9891c5-b667-4399-8189-b00b4d2946ac",
    "tags": []
   },
   "source": [
    "## While-loops"
   ]
  },
  {
   "cell_type": "markdown",
   "id": "216e5b19-97a0-414d-9983-6e9faea3f174",
   "metadata": {
    "id": "216e5b19-97a0-414d-9983-6e9faea3f174",
    "tags": []
   },
   "source": [
    "<center><img src=\"https://media.geeksforgeeks.org/wp-content/uploads/20191101170515/while-loop.jpg\" width=\"500\" height=\"500\"/></center>\n",
    "\n",
    "- Behaves similar to the for-loop\n",
    "- Stops whenever a specific condition is met, such as when a number is greater some value\n",
    "- Does __not__ pull entries from a list, thus it needs to be done manually\n",
    "- Needs a starting condition that is evaluated at each round\n",
    "- Can end up in an infinite loop\n",
    "- Rarely used and should only be considered when dealing with highly dynamic tasks\n",
    "\n",
    "#### Procedure\n",
    "\n",
    "1. Set up a starting condition and a termination condition\n",
    "2. Enter the body of the loop and perform the operation\n",
    "3. At the next iteration, the condition is tested\n",
    "4. If met, the loop continues. If not, the loop is terminated\n",
    "\n",
    "#### Example\n",
    "\n",
    "```\n",
    "index = 0\n",
    "\n",
    "while index <= 10:\n",
    "    print(index)\n",
    "    \n",
    "    # Index needs to be increased manually\n",
    "    index += 1\n",
    "```"
   ]
  },
  {
   "cell_type": "code",
   "execution_count": 55,
   "id": "ea66208c-5e0a-4f11-b81a-7d4d21b95eff",
   "metadata": {
    "colab": {
     "base_uri": "https://localhost:8080/"
    },
    "id": "ea66208c-5e0a-4f11-b81a-7d4d21b95eff",
    "outputId": "fed5c4dc-4562-406f-d186-b087a11b972a"
   },
   "outputs": [
    {
     "name": "stdout",
     "output_type": "stream",
     "text": [
      "At index  0  is number  0.0\n",
      "At index  1  is number  5.0\n",
      "At index  2  is number  10.0\n"
     ]
    }
   ],
   "source": [
    "measurements = [0.0, 5.0, 10.0]\n",
    "\n",
    "index = 0\n",
    "\n",
    "while index < 3:\n",
    "  number = measurements[index]\n",
    "\n",
    "  print(\"At index \", index, \" is number \", number)\n",
    "\n",
    "  # Need to increment, otherwise infinite loop!\n",
    "  index += 1"
   ]
  },
  {
   "cell_type": "markdown",
   "id": "04c01b16-b8f1-4b27-ad10-5d69daa94565",
   "metadata": {
    "id": "04c01b16-b8f1-4b27-ad10-5d69daa94565"
   },
   "source": [
    "## Conditions"
   ]
  },
  {
   "cell_type": "markdown",
   "id": "6c5fc8cd-e234-4ea9-9c64-ce14ab376781",
   "metadata": {
    "id": "6c5fc8cd-e234-4ea9-9c64-ce14ab376781",
    "tags": []
   },
   "source": [
    "- If-else statements are very important to deal with certain situations\n",
    "- Whenever a condition is met, the following code is executed\n",
    "- Optionally, an `else` statement can be used to deal with all situations that did not match the condition\n",
    "\n",
    "#### Using conditions wisely\n",
    "\n",
    "- Try to use as less as possible and as much as needed\n",
    "- Nesting too many `if`s is a sign of bad design\n",
    "- Sometimes it is helpful to deal with what you dont want (see [Guard clauses](https://medium.com/lemon-code/guard-clauses-3bc0cd96a2d3))"
   ]
  },
  {
   "cell_type": "code",
   "execution_count": null,
   "id": "6s-EXeyNd3WJ",
   "metadata": {
    "id": "6s-EXeyNd3WJ"
   },
   "outputs": [],
   "source": [
    "# String comparisons\n",
    "\n",
    "names = [\"Daniel\", \"Alan\", \"Marie\", \"Sara\"]\n",
    "\n",
    "for name in names:\n",
    "\n",
    "  # If statements should always evaluate\n",
    "  # to a boolean (True/False)\n",
    "  if True:\n",
    "    print(name)\n"
   ]
  },
  {
   "cell_type": "code",
   "execution_count": 48,
   "id": "79992e9a-fdd0-4cb0-978a-97674fd5b5f5",
   "metadata": {
    "colab": {
     "base_uri": "https://localhost:8080/"
    },
    "id": "79992e9a-fdd0-4cb0-978a-97674fd5b5f5",
    "outputId": "80dfb7f9-6b71-495e-a4c4-d95e60722e12"
   },
   "outputs": [
    {
     "name": "stdout",
     "output_type": "stream",
     "text": [
      "Daniel\n"
     ]
    }
   ],
   "source": [
    "# String comparisons\n",
    "\n",
    "names = [\"Daniel\", \"Alan\", \"Marie\", \"Sara\"]\n",
    "\n",
    "for name in names:\n",
    "\n",
    "  if name[0] == \"D\":\n",
    "    print(name)\n"
   ]
  },
  {
   "cell_type": "code",
   "execution_count": 51,
   "id": "RKSLwVN6bg5q",
   "metadata": {
    "colab": {
     "base_uri": "https://localhost:8080/"
    },
    "id": "RKSLwVN6bg5q",
    "outputId": "68a4054e-97b6-4442-99d1-5b469ac9a7d2"
   },
   "outputs": [
    {
     "name": "stdout",
     "output_type": "stream",
     "text": [
      "0.0\n",
      "5.0\n",
      "6.0\n",
      "This should be 20!  20.0\n",
      "Dunno what to do! 50.0\n"
     ]
    }
   ],
   "source": [
    "# Numerical conditions\n",
    "\n",
    "measurements = [0.0 , 5.0, 6.0, 20.0, 50.0]\n",
    "\n",
    "for number in measurements:\n",
    "\n",
    "  if number < 20.0:\n",
    "    print(number)\n",
    "  elif number == 20.0:\n",
    "    print(\"This should be 20! \", number)\n",
    "  else:\n",
    "    print(\"Dunno what to do!\", number)"
   ]
  },
  {
   "cell_type": "markdown",
   "id": "81ba9cca-9839-42a6-96a2-334fcaba6be3",
   "metadata": {
    "id": "81ba9cca-9839-42a6-96a2-334fcaba6be3"
   },
   "source": [
    "## Its all about the sauce"
   ]
  },
  {
   "cell_type": "markdown",
   "id": "bf641dbc-9fa6-4a44-90db-1b296cb2a3a7",
   "metadata": {
    "id": "bf641dbc-9fa6-4a44-90db-1b296cb2a3a7",
    "tags": []
   },
   "source": [
    "Navigating through the syntax jungle can be quite tempting and exhausting. However, most problems you will be confronted with have already been solved numerous times. Thus, knowing your __sources__ is the utmost important skill when programming. There are multiple sites where problems are discussed and solutions are given!\n",
    "\n",
    "#### Helpful sites\n",
    "\n",
    "- [StackOverflow](https://www.stackoverflow.com) - Probably the best site to search for help\n",
    "- [W3Schools Python](https://www.w3schools.com/python/) - Great overview of Pythons functionality\n",
    "- [PythonCheatSheet](https://www.pythoncheatsheet.org/) - Another great overview\n",
    "- [Google](https://www.google.com) - The most used tool in Software Development"
   ]
  }
 ],
 "metadata": {
  "colab": {
   "provenance": []
  },
  "kernelspec": {
   "display_name": "Python 3 (ipykernel)",
   "language": "python",
   "name": "python3"
  },
  "language_info": {
   "codemirror_mode": {
    "name": "ipython",
    "version": 3
   },
   "file_extension": ".py",
   "mimetype": "text/x-python",
   "name": "python",
   "nbconvert_exporter": "python",
   "pygments_lexer": "ipython3",
   "version": "3.11.5"
  }
 },
 "nbformat": 4,
 "nbformat_minor": 5
}
