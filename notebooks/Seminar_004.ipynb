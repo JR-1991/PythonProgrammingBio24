{
  "cells": [
    {
      "cell_type": "markdown",
      "id": "b6a728b2-fc2f-40d4-ada3-a876cdac0999",
      "metadata": {
        "id": "b6a728b2-fc2f-40d4-ada3-a876cdac0999"
      },
      "source": [
        "# Seminar 004: Native functions and visualisation"
      ]
    },
    {
      "cell_type": "markdown",
      "id": "bd7f80c2-d3a2-43be-bec8-5f98ff111eeb",
      "metadata": {
        "id": "bd7f80c2-d3a2-43be-bec8-5f98ff111eeb"
      },
      "source": [
        "<a href=\"https://colab.research.google.com/github/JR-1991/PythonProgrammingBio24/blob/main/notebooks/Seminar_004.ipynb\" target=\"_parent\"><img src=\"https://colab.research.google.com/assets/colab-badge.svg\" alt=\"Open In Colab\"/></a>"
      ]
    },
    {
      "cell_type": "markdown",
      "id": "a8096bf6-a7f2-4345-91c1-e8ce8154646c",
      "metadata": {
        "id": "a8096bf6-a7f2-4345-91c1-e8ce8154646c"
      },
      "source": [
        "------"
      ]
    },
    {
      "cell_type": "markdown",
      "id": "0ecaf7e7-31a0-4e10-8e37-f4935402ce76",
      "metadata": {
        "id": "0ecaf7e7-31a0-4e10-8e37-f4935402ce76"
      },
      "source": [
        "## Notes"
      ]
    },
    {
      "cell_type": "code",
      "execution_count": 1,
      "id": "89dd4174-383d-49a5-8536-65e23ffe53cd",
      "metadata": {
        "id": "89dd4174-383d-49a5-8536-65e23ffe53cd",
        "outputId": "4786ced7-e376-4afa-abdf-3fbc315438ff",
        "colab": {
          "base_uri": "https://localhost:8080/"
        }
      },
      "outputs": [
        {
          "output_type": "stream",
          "name": "stdout",
          "text": [
            "C Style:  This number is 100!\n"
          ]
        }
      ],
      "source": [
        "# C Style string formatting\n",
        "number = 100\n",
        "sentence = \"This number is \" + str(number) + \"!\"\n",
        "\n",
        "print(\"C Style: \", sentence)"
      ]
    },
    {
      "cell_type": "code",
      "source": [
        "# Python-style string formatting\n",
        "number = 100\n",
        "sentence = f\"This number is {number}!\"\n",
        "\n",
        "print(f\"Python style: {sentence}\")"
      ],
      "metadata": {
        "id": "ukQO6Vdkg59e",
        "outputId": "b3c318ab-b045-416a-d64a-4cfcb4e2a0c6",
        "colab": {
          "base_uri": "https://localhost:8080/"
        }
      },
      "id": "ukQO6Vdkg59e",
      "execution_count": 3,
      "outputs": [
        {
          "output_type": "stream",
          "name": "stdout",
          "text": [
            "Python style: This number is 10!\n"
          ]
        }
      ]
    },
    {
      "cell_type": "code",
      "source": [
        "# Python-style string formatting (complex)\n",
        "number, char, boolean = 100, \"C\", True\n",
        "sentence = f\"The number is {number}, while the char is {char} and the expression is {boolean}\"\n",
        "\n",
        "print(sentence)"
      ],
      "metadata": {
        "id": "LbKpXGlNhSvT",
        "outputId": "ed364c01-d7fd-4c70-e3b2-e05f72dcb234",
        "colab": {
          "base_uri": "https://localhost:8080/"
        }
      },
      "id": "LbKpXGlNhSvT",
      "execution_count": 5,
      "outputs": [
        {
          "output_type": "stream",
          "name": "stdout",
          "text": [
            "The number is 100, while the char is C and the expression is True\n"
          ]
        }
      ]
    },
    {
      "cell_type": "code",
      "source": [
        "# C-Style string formatting (complex)\n",
        "number, char, boolean = 100, \"C\", True\n",
        "sentence = \"The number is \" + str(number) + \", while the char is \" + char + \" and the expression is \" + str(boolean)\n",
        "\n",
        "print(sentence)"
      ],
      "metadata": {
        "id": "TZdX53yKhnsz",
        "outputId": "b9b23d56-d9e8-4e7d-be60-0097961dd2f5",
        "colab": {
          "base_uri": "https://localhost:8080/"
        }
      },
      "id": "TZdX53yKhnsz",
      "execution_count": 7,
      "outputs": [
        {
          "output_type": "stream",
          "name": "stdout",
          "text": [
            "The number is 100, while the char is C and the expression is True\n"
          ]
        }
      ]
    },
    {
      "cell_type": "markdown",
      "id": "1348f1b6-6263-46c6-87ae-a15755908d16",
      "metadata": {
        "tags": [],
        "id": "1348f1b6-6263-46c6-87ae-a15755908d16"
      },
      "source": [
        "## Native Python Functions"
      ]
    },
    {
      "cell_type": "markdown",
      "id": "1cf51b0d-73a2-45b8-915b-c2b72c6a2ebd",
      "metadata": {
        "id": "1cf51b0d-73a2-45b8-915b-c2b72c6a2ebd"
      },
      "source": [
        "Python possess many native functions that help you to efficiently reduce the amount of code. For instance, there are dedicated functions to count sub-strings in strings."
      ]
    },
    {
      "cell_type": "code",
      "execution_count": 8,
      "id": "9385e235-3129-457e-b11d-8d898224ae95",
      "metadata": {
        "id": "9385e235-3129-457e-b11d-8d898224ae95",
        "outputId": "6f7e339e-3024-4eff-f1b0-b68d106f74e7",
        "colab": {
          "base_uri": "https://localhost:8080/"
        }
      },
      "outputs": [
        {
          "output_type": "stream",
          "name": "stdout",
          "text": [
            "There are in total 6 t`s\n"
          ]
        }
      ],
      "source": [
        "my_string = \"This is a test string with a many t's. How many t's?\"\n",
        "amount_t = my_string.count(\"t\")\n",
        "\n",
        "print(f\"There are in total {amount_t} t`s\")"
      ]
    },
    {
      "cell_type": "markdown",
      "id": "013b3f81-9e2e-4729-acfc-33fe0c11f0d1",
      "metadata": {
        "id": "013b3f81-9e2e-4729-acfc-33fe0c11f0d1"
      },
      "source": [
        "There are also many other functions and it is advidable to first look if there is already a solution given in Python. Sometimes it can help to conduct a web search, but there are also collections that help give an overview:\n",
        "\n",
        "- [List methods](https://www.w3schools.com/python/python_lists_methods.asp)\n",
        "- [Dict methods](https://www.w3schools.com/python/python_dictionaries_methods.asp)\n",
        "- [Tuple methods](https://www.w3schools.com/python/python_tuples_methods.asp)\n",
        "- [String methods](https://www.w3schools.com/python/python_strings_methods.asp)\n",
        "- [Set methods](https://www.w3schools.com/python/python_sets_methods.asp)"
      ]
    },
    {
      "cell_type": "markdown",
      "id": "a480df64-4ce7-4520-a38c-c51830f27484",
      "metadata": {
        "id": "a480df64-4ce7-4520-a38c-c51830f27484"
      },
      "source": [
        "### Another useful example: Joining strings"
      ]
    },
    {
      "cell_type": "markdown",
      "id": "f9b109f6-c591-4f86-aa90-40ff167c00b0",
      "metadata": {
        "id": "f9b109f6-c591-4f86-aa90-40ff167c00b0"
      },
      "source": [
        "The `\"\".join()`-method allows us to combine a list of strings into a single string. This can be quite handy, when you are dynamically want to generate outputs or reports."
      ]
    },
    {
      "cell_type": "code",
      "execution_count": 10,
      "id": "bef7fe67-21de-490c-a7eb-74792fbeba13",
      "metadata": {
        "id": "bef7fe67-21de-490c-a7eb-74792fbeba13",
        "outputId": "c5b047ff-346d-47cc-892f-af42ace7b551",
        "colab": {
          "base_uri": "https://localhost:8080/",
          "height": 36
        }
      },
      "outputs": [
        {
          "output_type": "execute_result",
          "data": {
            "text/plain": [
              "'is a Hello Hello sentence'"
            ],
            "application/vnd.google.colaboratory.intrinsic+json": {
              "type": "string"
            }
          },
          "metadata": {},
          "execution_count": 10
        }
      ],
      "source": [
        "import random\n",
        "\n",
        "words = [\"Hello\", \"this\", \"is\", \"a\", \"sentence\"]\n",
        "\n",
        "sentence = random.choices(words, k=5)\n",
        "\n",
        "\" \".join(sentence)"
      ]
    },
    {
      "cell_type": "code",
      "execution_count": 11,
      "id": "c1c68dbc-8bbf-4424-acca-588d292b0bad",
      "metadata": {
        "id": "c1c68dbc-8bbf-4424-acca-588d292b0bad",
        "outputId": "9af2785d-ca1e-43a0-bed6-6f788b88d5d1",
        "colab": {
          "base_uri": "https://localhost:8080/"
        }
      },
      "outputs": [
        {
          "output_type": "stream",
          "name": "stdout",
          "text": [
            "is\n",
            "follows a\n",
            "follows Hello\n",
            "follows Hello\n",
            "follows sentence\n"
          ]
        }
      ],
      "source": [
        "# The join method also allows to determine how each\n",
        "# sub-string will be joined\n",
        "\n",
        "print(\"\\nfollows \".join(sentence))"
      ]
    },
    {
      "cell_type": "code",
      "execution_count": 12,
      "id": "3491fb17-fd48-4b9f-b30c-df1c37b4f577",
      "metadata": {
        "id": "3491fb17-fd48-4b9f-b30c-df1c37b4f577",
        "outputId": "67847578-df34-47d1-bef7-183fd528a619",
        "colab": {
          "base_uri": "https://localhost:8080/"
        }
      },
      "outputs": [
        {
          "output_type": "stream",
          "name": "stdout",
          "text": [
            "is\n",
            "a\n",
            "Hello\n",
            "Hello\n",
            "sentence\n"
          ]
        }
      ],
      "source": [
        "print(\"\\n\".join(sentence))"
      ]
    },
    {
      "cell_type": "markdown",
      "id": "e0c72575-b39c-4433-8d88-6ab51d5be69f",
      "metadata": {
        "id": "e0c72575-b39c-4433-8d88-6ab51d5be69f"
      },
      "source": [
        "## Lambda functions"
      ]
    },
    {
      "cell_type": "markdown",
      "id": "16645437-6dc2-4362-878d-940af1a13af5",
      "metadata": {
        "id": "16645437-6dc2-4362-878d-940af1a13af5"
      },
      "source": [
        "### Basics"
      ]
    },
    {
      "cell_type": "markdown",
      "id": "6ad6a605-8e80-4288-b0a2-82829215ca3c",
      "metadata": {
        "id": "6ad6a605-8e80-4288-b0a2-82829215ca3c"
      },
      "source": [
        "Lambda functions are basically a \"lazy\" type of function that can be defined on the fly. Usually these should be avoided, since normal function definitions can be documented and are much better to read."
      ]
    },
    {
      "cell_type": "code",
      "execution_count": null,
      "id": "e4926354-8652-4df1-9a35-f01cc9247fa2",
      "metadata": {
        "id": "e4926354-8652-4df1-9a35-f01cc9247fa2"
      },
      "outputs": [],
      "source": [
        "# Function definition\n",
        "my_fun = lambda argument1, argument2: argument1 * 10 / argument2\n",
        "\n",
        "# Using the function\n",
        "my_fun(10, 5)"
      ]
    },
    {
      "cell_type": "code",
      "execution_count": null,
      "id": "a21a39a9-717c-4435-99d8-e71d500c8c75",
      "metadata": {
        "id": "a21a39a9-717c-4435-99d8-e71d500c8c75"
      },
      "outputs": [],
      "source": [
        "get_gc = lambda sequence: (sequence.count(\"G\") + sequence.count(\"C\")) / len(sequence)"
      ]
    },
    {
      "cell_type": "code",
      "execution_count": null,
      "id": "6b28411c-c1a0-4cb8-9ddf-785ab1b406e9",
      "metadata": {
        "id": "6b28411c-c1a0-4cb8-9ddf-785ab1b406e9"
      },
      "outputs": [],
      "source": [
        "get_gc(\"GCGCGGGAGGCT\")"
      ]
    },
    {
      "cell_type": "markdown",
      "id": "45396ab1-dbd3-473d-9bbb-32f173c5f49b",
      "metadata": {
        "id": "45396ab1-dbd3-473d-9bbb-32f173c5f49b"
      },
      "source": [
        "### Common application: Keys to native functions"
      ]
    },
    {
      "cell_type": "code",
      "execution_count": null,
      "id": "a47d4ef1-378e-4d42-afc4-1343447ea9c3",
      "metadata": {
        "id": "a47d4ef1-378e-4d42-afc4-1343447ea9c3"
      },
      "outputs": [],
      "source": [
        "# Create a list of tuples\n",
        "tup_list = [(\"a\", 1, 2), (\"b\", 2, 100), (\"c\", 3, 878237)]"
      ]
    },
    {
      "cell_type": "code",
      "execution_count": null,
      "id": "a0b84e57-ddcb-4737-ae2e-09eea8f78ec4",
      "metadata": {
        "id": "a0b84e57-ddcb-4737-ae2e-09eea8f78ec4"
      },
      "outputs": [],
      "source": [
        "# Sort function\n",
        "sorted(tup_list, key=lambda tup: tup[1], reverse=True)"
      ]
    },
    {
      "cell_type": "code",
      "execution_count": null,
      "id": "e531d4ee-fb47-4611-a210-25359f194763",
      "metadata": {
        "id": "e531d4ee-fb47-4611-a210-25359f194763"
      },
      "outputs": [],
      "source": [
        "# Max/Min function\n",
        "max(tup_list, key=lambda tup: tup[-1])"
      ]
    },
    {
      "cell_type": "code",
      "execution_count": null,
      "id": "af760100-8e05-4541-8692-3262de981542",
      "metadata": {
        "id": "af760100-8e05-4541-8692-3262de981542"
      },
      "outputs": [],
      "source": [
        "# Filter data\n",
        "filtered = filter(lambda tup: tup[0] == \"a\", tup_list)\n",
        "\n",
        "list(filtered)"
      ]
    },
    {
      "cell_type": "code",
      "execution_count": null,
      "id": "e0509a31-944d-42c2-b97e-4d1e696a41a1",
      "metadata": {
        "id": "e0509a31-944d-42c2-b97e-4d1e696a41a1"
      },
      "outputs": [],
      "source": [
        "filter_function = lambda tup: tup[0] == \"a\"\n",
        "new_list = []\n",
        "\n",
        "for entry in tup_list:\n",
        "    if filter_function(entry):\n",
        "        new_list.append(entry)\n",
        "    else:\n",
        "        print(f\"{entry} is not valid!\")"
      ]
    },
    {
      "cell_type": "markdown",
      "id": "7a970069-a679-48db-a85b-554e24b24e9b",
      "metadata": {
        "id": "7a970069-a679-48db-a85b-554e24b24e9b"
      },
      "source": [
        "## Data visualisation"
      ]
    },
    {
      "cell_type": "code",
      "execution_count": null,
      "id": "9262a498-636a-4aa2-a251-ada3e4169b73",
      "metadata": {
        "tags": [],
        "id": "9262a498-636a-4aa2-a251-ada3e4169b73"
      },
      "outputs": [],
      "source": [
        "!pip install seaborn matplotlib pandas"
      ]
    },
    {
      "cell_type": "code",
      "execution_count": null,
      "id": "fd40b480-9a93-40a6-9a08-5e7d0f14cd87",
      "metadata": {
        "tags": [],
        "id": "fd40b480-9a93-40a6-9a08-5e7d0f14cd87"
      },
      "outputs": [],
      "source": [
        "# Import an example dataset\n",
        "import seaborn as sns\n",
        "\n",
        "iris = sns.load_dataset('iris')\n",
        "iris.head()"
      ]
    },
    {
      "cell_type": "markdown",
      "id": "185a3922-3e2d-4455-ab20-7376651c1384",
      "metadata": {
        "id": "185a3922-3e2d-4455-ab20-7376651c1384"
      },
      "source": [
        "There exist numerous packages for data visualisation in Python, yet Matplotlib and Searborn are two of the most prominent ones. Both offer various plotting styles such as scatter plots, histograms, time-course plots and many more. Seaborn offers a lightweight interface which is very beginner-friendly, while Matplotlib requires more code to achieve the same result. The latter is very handy for complex and custom visualisations, while Seaborn is best to be used for simple and quick data visualisation.\n",
        "\n",
        "In the following, find two examples to generate a scatter plot for the above dataset:"
      ]
    },
    {
      "cell_type": "code",
      "execution_count": null,
      "id": "3ed09982-8105-46be-92fe-d1b27b9d299e",
      "metadata": {
        "tags": [],
        "id": "3ed09982-8105-46be-92fe-d1b27b9d299e",
        "outputId": "dabf5f01-7ecb-429b-eff7-874cb52631c6"
      },
      "outputs": [
        {
          "data": {
            "text/plain": [
              "<Axes: xlabel='sepal_length', ylabel='sepal_width'>"
            ]
          },
          "execution_count": 48,
          "metadata": {},
          "output_type": "execute_result"
        },
        {
          "data": {
            "image/png": "[encoded data removed]",
            "text/plain": [
              "<Figure size 640x480 with 1 Axes>"
            ]
          },
          "metadata": {},
          "output_type": "display_data"
        }
      ],
      "source": [
        "# Using seaborn, you can pass in a Pandas DataFrame and the column names\n",
        "# for axes and colouring\n",
        "sns.scatterplot(\n",
        "    data=iris,\n",
        "    x=\"sepal_length\",\n",
        "    y=\"sepal_width\",\n",
        "    hue=\"species\",\n",
        ")"
      ]
    },
    {
      "cell_type": "code",
      "execution_count": null,
      "id": "e0e56414-efd5-460b-a1b2-54635478f046",
      "metadata": {
        "tags": [],
        "id": "e0e56414-efd5-460b-a1b2-54635478f046",
        "outputId": "0dae0e6b-c48a-45c3-fa4f-3a0cfdfd3399"
      },
      "outputs": [
        {
          "data": {
            "image/png": "[encoded data removed]",
            "text/plain": [
              "<Figure size 640x480 with 1 Axes>"
            ]
          },
          "metadata": {},
          "output_type": "display_data"
        }
      ],
      "source": [
        "# Using matplotlib you need a bit more code to achieve the same\n",
        "# but we can add more custom things, such as additional lines and text\n",
        "\n",
        "import matplotlib.pyplot as plt\n",
        "\n",
        "f, ax = plt.subplots()\n",
        "handles = []\n",
        "\n",
        "for species in set(iris.species):\n",
        "    df_sub = iris[iris.species == species]\n",
        "    handle = ax.scatter(x=df_sub.sepal_length, y=df_sub.sepal_width, label=species)\n",
        "\n",
        "    handles.append(handle)\n",
        "\n",
        "median_sepal_length = iris.sepal_length.median()\n",
        "median_sepal_width = iris.sepal_width.median()\n",
        "\n",
        "handles += [\n",
        "    ax.axvline(\n",
        "        x=median_sepal_length,\n",
        "        linestyle=\"--\",\n",
        "        c=\"k\",\n",
        "        alpha=0.5,\n",
        "        label=\"Median length\",\n",
        "    ),\n",
        "    ax.axhline(\n",
        "        y=median_sepal_width,\n",
        "        linestyle=\":\",\n",
        "        c=\"k\",\n",
        "        alpha=0.5,\n",
        "        label=\"Median width\"\n",
        "    )\n",
        "]\n",
        "\n",
        "ax.set_xlabel(\"Sepal length $[cm]$\")\n",
        "ax.set_ylabel(\"Sepal width $[cm]$\")\n",
        "ax.set_title(\"Iris dataset\")\n",
        "\n",
        "ax.legend(\n",
        "    handles=handles,\n",
        "    loc='upper left',\n",
        "    bbox_to_anchor=(1, 1.0),\n",
        "    fancybox=True,\n",
        "    shadow=True,\n",
        "    ncol=1\n",
        ")\n",
        "\n",
        "\n",
        "plt.show()"
      ]
    },
    {
      "cell_type": "markdown",
      "id": "367242ee-efa7-4a9e-9d98-a67a133aa9ec",
      "metadata": {
        "id": "367242ee-efa7-4a9e-9d98-a67a133aa9ec"
      },
      "source": [
        "## My own project"
      ]
    },
    {
      "cell_type": "markdown",
      "id": "30ae6da1-a2b0-49b5-a352-9c7b4204076f",
      "metadata": {
        "id": "30ae6da1-a2b0-49b5-a352-9c7b4204076f"
      },
      "source": [
        "Pick a problem from your field or what you think should be solved using Python and apply the concepts we've just learned. I will also supply a couple of datasets that you can use and analyse. These will be available at the [course's website](https://jr-1991.github.io/PythonProgrammingBio24/).\n",
        "\n",
        "Talking about code is a vital part of scripting and software development, thats why, at the end of this block, you will present your solution or analysis to the plenum. We will discuss problems and possible modifications to your solution. Finally, the same project will be analysed again, but using object-oriented programming which we will learn in the second block."
      ]
    }
  ],
  "metadata": {
    "kernelspec": {
      "display_name": "Python 3 (ipykernel)",
      "language": "python",
      "name": "python3"
    },
    "language_info": {
      "codemirror_mode": {
        "name": "ipython",
        "version": 3
      },
      "file_extension": ".py",
      "mimetype": "text/x-python",
      "name": "python",
      "nbconvert_exporter": "python",
      "pygments_lexer": "ipython3",
      "version": "3.11.5"
    },
    "colab": {
      "provenance": []
    }
  },
  "nbformat": 4,
  "nbformat_minor": 5
}