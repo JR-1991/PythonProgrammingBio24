{
 "cells": [
  {
   "cell_type": "markdown",
   "id": "b6a728b2-fc2f-40d4-ada3-a876cdac0999",
   "metadata": {},
   "source": [
    "# Seminar 004: Visualization of Data"
   ]
  },
  {
   "cell_type": "markdown",
   "id": "a8096bf6-a7f2-4345-91c1-e8ce8154646c",
   "metadata": {},
   "source": [
    "------"
   ]
  },
  {
   "cell_type": "markdown",
   "id": "0ecaf7e7-31a0-4e10-8e37-f4935402ce76",
   "metadata": {},
   "source": [
    "## Notes"
   ]
  },
  {
   "cell_type": "code",
   "execution_count": null,
   "id": "89dd4174-383d-49a5-8536-65e23ffe53cd",
   "metadata": {},
   "outputs": [],
   "source": []
  },
  {
   "cell_type": "markdown",
   "id": "1348f1b6-6263-46c6-87ae-a15755908d16",
   "metadata": {
    "tags": []
   },
   "source": [
    "## Native Python Functions"
   ]
  },
  {
   "cell_type": "markdown",
   "id": "1cf51b0d-73a2-45b8-915b-c2b72c6a2ebd",
   "metadata": {},
   "source": [
    "Python possess many native functions that help you to efficiently reduce the amount of code. For instance, there are dedicated functions to count sub-strings in strings."
   ]
  },
  {
   "cell_type": "code",
   "execution_count": null,
   "id": "9385e235-3129-457e-b11d-8d898224ae95",
   "metadata": {},
   "outputs": [],
   "source": [
    "my_string = \"This is a test string with a many t's. How many t's?\"\n",
    "amount_t = my_string.count(\"t\")\n",
    "\n",
    "print(f\"There are in total {amount_t} t`s\")"
   ]
  },
  {
   "cell_type": "markdown",
   "id": "013b3f81-9e2e-4729-acfc-33fe0c11f0d1",
   "metadata": {},
   "source": [
    "There are also many other functions and it is advidable to first look if there is already a solution given in Python. Sometimes it can help to conduct a web search, but there are also collections that help give an overview:\n",
    "\n",
    "- [List methods](https://www.w3schools.com/python/python_lists_methods.asp)\n",
    "- [Dict methods](https://www.w3schools.com/python/python_dictionaries_methods.asp)\n",
    "- [Tuple methods](https://www.w3schools.com/python/python_tuples_methods.asp)\n",
    "- [String methods](https://www.w3schools.com/python/python_strings_methods.asp)\n",
    "- [Set methods](https://www.w3schools.com/python/python_sets_methods.asp)"
   ]
  },
  {
   "cell_type": "markdown",
   "id": "a480df64-4ce7-4520-a38c-c51830f27484",
   "metadata": {},
   "source": [
    "### Another useful example: Joining strings"
   ]
  },
  {
   "cell_type": "markdown",
   "id": "f9b109f6-c591-4f86-aa90-40ff167c00b0",
   "metadata": {},
   "source": [
    "The `\"\".join()`-method allows us to combine a list of strings into a single string. This can be quite handy, when you are dynamically want to generate outputs or reports."
   ]
  },
  {
   "cell_type": "code",
   "execution_count": null,
   "id": "bef7fe67-21de-490c-a7eb-74792fbeba13",
   "metadata": {},
   "outputs": [],
   "source": [
    "import random\n",
    "\n",
    "words = [\"Hello\", \"this\", \"is\", \"a\", \"sentence\"]\n",
    "\n",
    "sentence = random.choices(words, k=5)\n",
    "\n",
    "\n",
    "\" \".join(sentence)"
   ]
  },
  {
   "cell_type": "code",
   "execution_count": null,
   "id": "c1c68dbc-8bbf-4424-acca-588d292b0bad",
   "metadata": {},
   "outputs": [],
   "source": [
    "# The join method also allows to determine how each\n",
    "# sub-string will be joined\n",
    "\n",
    "print(\"\\nfollows \".join(sentence))"
   ]
  },
  {
   "cell_type": "code",
   "execution_count": null,
   "id": "3491fb17-fd48-4b9f-b30c-df1c37b4f577",
   "metadata": {},
   "outputs": [],
   "source": [
    "print(\"\\n\".join(sentence))"
   ]
  },
  {
   "cell_type": "markdown",
   "id": "e0c72575-b39c-4433-8d88-6ab51d5be69f",
   "metadata": {},
   "source": [
    "## Lambda functions"
   ]
  },
  {
   "cell_type": "markdown",
   "id": "16645437-6dc2-4362-878d-940af1a13af5",
   "metadata": {},
   "source": [
    "### Basics"
   ]
  },
  {
   "cell_type": "markdown",
   "id": "6ad6a605-8e80-4288-b0a2-82829215ca3c",
   "metadata": {},
   "source": [
    "Lambda functions are basically a \"lazy\" type of function that can be defined on the fly. Usually these should be avoided, since normal function definitions can be documented and are much better to read."
   ]
  },
  {
   "cell_type": "code",
   "execution_count": null,
   "id": "e4926354-8652-4df1-9a35-f01cc9247fa2",
   "metadata": {},
   "outputs": [],
   "source": [
    "# Function definition\n",
    "my_fun = lambda argument1, argument2: argument1 * 10 / argument2\n",
    "\n",
    "# Using the function\n",
    "my_fun(10, 5)"
   ]
  },
  {
   "cell_type": "code",
   "execution_count": null,
   "id": "a21a39a9-717c-4435-99d8-e71d500c8c75",
   "metadata": {},
   "outputs": [],
   "source": [
    "get_gc = lambda sequence: (sequence.count(\"G\") + sequence.count(\"C\")) / len(sequence)"
   ]
  },
  {
   "cell_type": "code",
   "execution_count": null,
   "id": "6b28411c-c1a0-4cb8-9ddf-785ab1b406e9",
   "metadata": {},
   "outputs": [],
   "source": [
    "get_gc(\"GCGCGGGAGGCT\")"
   ]
  },
  {
   "cell_type": "markdown",
   "id": "45396ab1-dbd3-473d-9bbb-32f173c5f49b",
   "metadata": {},
   "source": [
    "### Common application: Keys to native functions"
   ]
  },
  {
   "cell_type": "code",
   "execution_count": null,
   "id": "a47d4ef1-378e-4d42-afc4-1343447ea9c3",
   "metadata": {},
   "outputs": [],
   "source": [
    "# Create a list of tuples\n",
    "tup_list = [(\"a\", 1, 2), (\"b\", 2, 100), (\"c\", 3, 878237)]"
   ]
  },
  {
   "cell_type": "code",
   "execution_count": null,
   "id": "a0b84e57-ddcb-4737-ae2e-09eea8f78ec4",
   "metadata": {},
   "outputs": [],
   "source": [
    "# Sort function\n",
    "sorted(tup_list, key=lambda tup: tup[1], reverse=True)"
   ]
  },
  {
   "cell_type": "code",
   "execution_count": null,
   "id": "e531d4ee-fb47-4611-a210-25359f194763",
   "metadata": {},
   "outputs": [],
   "source": [
    "# Max/Min function\n",
    "max(tup_list, key=lambda tup: tup[-1])"
   ]
  },
  {
   "cell_type": "code",
   "execution_count": null,
   "id": "af760100-8e05-4541-8692-3262de981542",
   "metadata": {},
   "outputs": [],
   "source": [
    "# Filter data\n",
    "filtered = filter(lambda tup: tup[0] == \"a\", tup_list)\n",
    "\n",
    "list(filtered)"
   ]
  },
  {
   "cell_type": "code",
   "execution_count": null,
   "id": "e0509a31-944d-42c2-b97e-4d1e696a41a1",
   "metadata": {},
   "outputs": [],
   "source": [
    "filter_function = lambda tup: tup[0] == \"a\"\n",
    "new_list = []\n",
    "\n",
    "for entry in tup_list:\n",
    "    if filter_function(entry):\n",
    "        new_list.append(entry)\n",
    "    else:\n",
    "        print(f\"{entry} is not valid!\")"
   ]
  },
  {
   "cell_type": "markdown",
   "id": "367242ee-efa7-4a9e-9d98-a67a133aa9ec",
   "metadata": {},
   "source": [
    "## My own project"
   ]
  },
  {
   "cell_type": "markdown",
   "id": "30ae6da1-a2b0-49b5-a352-9c7b4204076f",
   "metadata": {},
   "source": [
    "Pick a problem from your field or what you think should be solved using Python and apply the concepts we've just learned. I will also supply a couple of datasets that you can use and analyse. These will be available at the [course's website](https://jr-1991.github.io/PythonProgrammingBio24/).\n",
    "\n",
    "Talking about code is a vital part of scripting and software development, thats why, at the end of this block, you will present your solution or analysis to the plenum. We will discuss problems and possible modifications to your solution. Finally, the same project will be analysed again, but using object-oriented programming which we will learn in the second block."
   ]
  }
 ],
 "metadata": {
  "kernelspec": {
   "display_name": "Python 3 (ipykernel)",
   "language": "python",
   "name": "python3"
  },
  "language_info": {
   "codemirror_mode": {
    "name": "ipython",
    "version": 3
   },
   "file_extension": ".py",
   "mimetype": "text/x-python",
   "name": "python",
   "nbconvert_exporter": "python",
   "pygments_lexer": "ipython3",
   "version": "3.11.5"
  }
 },
 "nbformat": 4,
 "nbformat_minor": 5
}
