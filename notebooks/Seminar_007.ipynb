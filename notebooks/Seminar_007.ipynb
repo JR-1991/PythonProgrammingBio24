{
 "cells": [
  {
   "cell_type": "markdown",
   "id": "b6a728b2-fc2f-40d4-ada3-a876cdac0999",
   "metadata": {},
   "source": [
    "# Seminar 007: Extending Methods"
   ]
  },
  {
   "cell_type": "markdown",
   "id": "a8096bf6-a7f2-4345-91c1-e8ce8154646c",
   "metadata": {},
   "source": [
    "------"
   ]
  },
  {
   "cell_type": "markdown",
   "id": "0ecaf7e7-31a0-4e10-8e37-f4935402ce76",
   "metadata": {},
   "source": [
    "## Method decorators\n",
    "\n",
    "### Instance Methods\n",
    "\n",
    "Instance methods are functions defined within a class that operate on instances of that class. They have access to the instance through the self parameter, which allows them to read or modify the instance’s attributes and call other instance methods. These methods are used when actions are performed that relate to the individual instance, such as changing an instance’s state or interacting with its attributes.\n",
    "\n",
    "\n",
    "### Class Methods\n",
    "\n",
    "Class methods are functions that operate on the class itself rather than on instances of the class. They are identified by the `@classmethod` decorator and use cls as the first parameter, which refers to the class. Class methods can access and modify class-level attributes, which are shared across all instances of the class. These methods are useful for operations that are related to the class as a whole, such as creating instances in different ways or maintaining a count of all instances\n",
    "\n",
    "\n",
    "### Static Methods\n",
    "\n",
    "Static methods are functions defined within a class that do not operate on an instance or class directly. They are identified by the `@staticmethod` decorator and do not take self or cls as a parameter. Static methods behave like regular functions but are included in the class’s namespace. They are used for utility functions that perform a task related to the class but do not need to access or modify the class or instance state."
   ]
  },
  {
   "cell_type": "code",
   "execution_count": 8,
   "id": "89dd4174-383d-49a5-8536-65e23ffe53cd",
   "metadata": {
    "tags": []
   },
   "outputs": [],
   "source": [
    "class DNASequence:\n",
    "    def __init__(self, ID, sequence):\n",
    "        \"\"\"This is a class to define a DNA sequence.\n",
    "\n",
    "        Args:\n",
    "            ID (str): The identifier of this sequence.\n",
    "            sequence (str): The sequence of this gene.\n",
    "        \"\"\"\n",
    "\n",
    "        self.ID = ID\n",
    "        self.sequence = sequence\n",
    "\n",
    "        self.length = len(self.sequence)\n",
    "\n",
    "    def get_sequence(self):\n",
    "        return self.sequence\n",
    "\n",
    "    @staticmethod\n",
    "    def concat_sequences(sequence1, sequence2):\n",
    "        return sequence1 + sequence2\n",
    "\n",
    "    @classmethod\n",
    "    def from_special_format(cls, content: str):\n",
    "        # \"1024\\nAGAGGATGATC\"\n",
    "\n",
    "        ID, sequence = content.split(\"|\")\n",
    "\n",
    "        # Equivalent to: DNASequence(ID, sequence)\n",
    "        return cls(ID, sequence)"
   ]
  },
  {
   "cell_type": "markdown",
   "id": "f0ee4511-9dfb-483d-9a82-b9fe701cfe91",
   "metadata": {},
   "source": [
    "## Usage examples"
   ]
  },
  {
   "cell_type": "code",
   "execution_count": 3,
   "id": "0cfa543f-3da0-4443-8953-978a60279bfb",
   "metadata": {
    "tags": []
   },
   "outputs": [
    {
     "name": "stdout",
     "output_type": "stream",
     "text": [
      "Instance 1: ATG\n",
      "Instance 2: ATG\n"
     ]
    }
   ],
   "source": [
    "# Instance methods operate on the object instance\n",
    "# --> getSequence is an instance method\n",
    "\n",
    "instance1 = DNASequence(\"Instance1\", \"ATG\")\n",
    "instance2 = DNASequence(\"Instance2\", \"TGA\")\n",
    "\n",
    "# The instance method will return the specific\n",
    "# content of the particular instance where we\n",
    "# are calling the method from\n",
    "\n",
    "print(f\"Instance 1: {instance1.get_sequence()}\")\n",
    "print(f\"Instance 2: {instance1.get_sequence()}\")"
   ]
  },
  {
   "cell_type": "code",
   "execution_count": 6,
   "id": "ab536269-daf3-446c-a266-5e5ca34974e6",
   "metadata": {
    "tags": []
   },
   "outputs": [
    {
     "data": {
      "text/plain": [
       "'ATGTGA'"
      ]
     },
     "execution_count": 6,
     "metadata": {},
     "output_type": "execute_result"
    }
   ],
   "source": [
    "# Static methods are basically functions attached\n",
    "# to a class. These do NOT operate on an instance\n",
    "# and hence the 'self' parameter is not necessary\n",
    "\n",
    "# Static method are mostly used for utilities or\n",
    "# helper methods within a class\n",
    "\n",
    "instance = DNASequence(\"Instance\", \"ATG\")\n",
    "instance.concat_sequences(\"ATG\", \"TGA\")"
   ]
  },
  {
   "cell_type": "code",
   "execution_count": 9,
   "id": "77833bc0-7f53-4976-953a-f5ad9030adc3",
   "metadata": {
    "tags": []
   },
   "outputs": [
    {
     "data": {
      "text/plain": [
       "{'ID': 'ID', 'sequence': 'ATGATG', 'length': 6}"
      ]
     },
     "execution_count": 9,
     "metadata": {},
     "output_type": "execute_result"
    }
   ],
   "source": [
    "# Classmethods operate on classes and are meant to\n",
    "# produce an instance in a special way. The 'cls' arg\n",
    "# is basically the class itself and we can decide how\n",
    "# to initialize the class within this method\n",
    "\n",
    "# These methods are usually used to wrap complex alternative\n",
    "# initialization methods. For instance, if we take a single\n",
    "# FASTA entry, we could extract ID and sequence in a single step\n",
    "\n",
    "instance = DNASequence.from_special_format(\"ID|ATGATG\")\n",
    "instance.__dict__"
   ]
  }
 ],
 "metadata": {
  "kernelspec": {
   "display_name": "Python 3 (ipykernel)",
   "language": "python",
   "name": "python3"
  },
  "language_info": {
   "codemirror_mode": {
    "name": "ipython",
    "version": 3
   },
   "file_extension": ".py",
   "mimetype": "text/x-python",
   "name": "python",
   "nbconvert_exporter": "python",
   "pygments_lexer": "ipython3",
   "version": "3.11.5"
  }
 },
 "nbformat": 4,
 "nbformat_minor": 5
}
