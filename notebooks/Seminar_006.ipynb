{
 "cells": [
  {
   "cell_type": "markdown",
   "id": "b6a728b2-fc2f-40d4-ada3-a876cdac0999",
   "metadata": {},
   "source": [
    "# Seminar 006: Object-Oriented Programming"
   ]
  },
  {
   "cell_type": "markdown",
   "id": "0ec73450-d503-4515-aac2-1cd9ee10c276",
   "metadata": {},
   "source": [
    "<a href=\"https://colab.research.google.com/github/FAIRChemistry/PythonProgrammingBio24/blob/main/notebooks/Seminar_006.ipynb\" target=\"_parent\"><img src=\"https://colab.research.google.com/assets/colab-badge.svg\" alt=\"Open In Colab\"/></a>"
   ]
  },
  {
   "cell_type": "markdown",
   "id": "a8096bf6-a7f2-4345-91c1-e8ce8154646c",
   "metadata": {},
   "source": [
    "------"
   ]
  },
  {
   "cell_type": "markdown",
   "id": "0ecaf7e7-31a0-4e10-8e37-f4935402ce76",
   "metadata": {
    "tags": []
   },
   "source": [
    "## Classes in Python"
   ]
  },
  {
   "cell_type": "markdown",
   "id": "b8488f82-e868-4f4f-87d6-2dae4e0af927",
   "metadata": {},
   "source": [
    "In the following, I will show you HOW the process of instantiation of a class works. The code is just for demo and thus please ignore all the utterly technical terms I have marked as unnecessary. In general, the process of instantiation can be summarized in the following diagram."
   ]
  },
  {
   "cell_type": "markdown",
   "id": "4d5e40d7-4b6c-4f36-9825-c6bfd5f94a1b",
   "metadata": {},
   "source": [
    "[![](https://mermaid.ink/img/pako:eNpN0M1ugzAMB_BXsXxpJ7UvwKFSC520w07bDVCUEReiJqFKHG0IePelMKT55MPvL3-M2PSKMMPWy0cHn0XlINW5fB9yI0Oo4Xg8TS1xgEYaQ2qCy14IR99CgCXuevWyRi6L9MTRuwCBzG2CfBRCO81CzCvKF0Q_1ESmMEFRbgC-ejXUq7qWZ99GSy5N1Q42su4SwxJcZfF_6ASv5ZsLLF1DsHtusKvxgJa8lVqlG8dnqELuyFKFWWqV9PcKKzcnFx9KMl2V5t5jdpMm0AFl5P5jcA1m7CNtqNAy_cv-qfkXk4xtQg)](https://mermaid.live/edit#pako:eNpN0M1ugzAMB_BXsXxpJ7UvwKFSC520w07bDVCUEReiJqFKHG0IePelMKT55MPvL3-M2PSKMMPWy0cHn0XlINW5fB9yI0Oo4Xg8TS1xgEYaQ2qCy14IR99CgCXuevWyRi6L9MTRuwCBzG2CfBRCO81CzCvKF0Q_1ESmMEFRbgC-ejXUq7qWZ99GSy5N1Q42su4SwxJcZfF_6ASv5ZsLLF1DsHtusKvxgJa8lVqlG8dnqELuyFKFWWqV9PcKKzcnFx9KMl2V5t5jdpMm0AFl5P5jcA1m7CNtqNAy_cv-qfkXk4xtQg)"
   ]
  },
  {
   "cell_type": "code",
   "execution_count": null,
   "id": "89dd4174-383d-49a5-8536-65e23ffe53cd",
   "metadata": {},
   "outputs": [],
   "source": [
    "number_of_instances = 0\n",
    "\n",
    "\n",
    "class Demo:\n",
    "    def __new__(cls):\n",
    "        \"\"\"\n",
    "        Whenever you call a \"class\" this method will be executed.\n",
    "        It is NOT important for your use cases, but it shows you\n",
    "        how the process works internally.\n",
    "        \"\"\"\n",
    "\n",
    "        # Disregard this, its for demo only\n",
    "        number_of_instances = globals()[\"number_of_instances\"]\n",
    "        globals()[\"number_of_instances\"] += 1\n",
    "\n",
    "        print(f\"Instance {number_of_instances} of the class has been created!\")\n",
    "\n",
    "        # This will create a DNASequence INSTANCE\n",
    "        # There can be as many instances as you wish\n",
    "\n",
    "        self = super(Demo, cls).__new__(cls)\n",
    "        self.number_of_instance = number_of_instances\n",
    "\n",
    "        return self\n",
    "\n",
    "    def __init__(self):\n",
    "        \"\"\"\n",
    "        In this method, the previously created \"self\" is passed,\n",
    "        such that we now can add new attributes to it. Similar,\n",
    "        to the example provided in the slides.\n",
    "\n",
    "        The arguments of the \"__init__\" are simply the gateway\n",
    "        to assign some values to the attributes. In this method\n",
    "        we are just making sure that they will be integrated.\n",
    "\n",
    "        Think about the \"__init__\" as the worker who transfers\n",
    "        your information to the \"architect\" that will build your\n",
    "        house from the \"blueprint\" that we have defined in the classs.\n",
    "        \"\"\"\n",
    "\n",
    "        print(\n",
    "            f\"We are now in the __init__ method of instance {self.number_of_instance}\"\n",
    "        )\n",
    "\n",
    "        \"\"\"\n",
    "        PLEASE NOTE\n",
    "\n",
    "        The most important method is __init__ and matters most. The other one\n",
    "        is just for more advanced topics and is useed here to demonstrate to you\n",
    "        how an instance is created.\n",
    "        \"\"\""
   ]
  },
  {
   "cell_type": "code",
   "execution_count": null,
   "id": "55240a00-c2a2-44f2-9851-7cd64d1e1530",
   "metadata": {},
   "outputs": [],
   "source": [
    "# Regard the \"class\" definition above as a blueprint from which we can create many\n",
    "# different \"outcomes\" as we want. These will differ in the VALUES of ATTRIBUTES,\n",
    "# but not in the NAME of the ATTRIBUTES.\n",
    "\n",
    "for _ in range(2):\n",
    "    instance = Demo()\n",
    "\n",
    "    print(\"ID of the instance: \", id(instance))\n",
    "\n",
    "    # The IDs show you, that something new is created\n",
    "    # each time we call the Demo class using \"Demo()\"\n",
    "    # Thus, each instance we create can act on their own"
   ]
  },
  {
   "cell_type": "code",
   "execution_count": null,
   "id": "426b7fa8-f6cb-4efe-8275-d39fc634b6e9",
   "metadata": {},
   "outputs": [],
   "source": [
    "# Here is an example that may demonstrate to you how\n",
    "# to apply the concept onto our application\n",
    "\n",
    "\n",
    "class DNASequence:\n",
    "    def __init__(self, sequence):\n",
    "        \"\"\"\n",
    "        Here we define the inputs to the class, which we will use\n",
    "        to set up the attributes. You will see that the input does\n",
    "        not have to all the attributes, but just those that are\n",
    "        necessary.\n",
    "\n",
    "        In this case, we only need the sequence, because we can\n",
    "        already calculate the GC_CONTENT using the sequence itself.\n",
    "\n",
    "        The \"self\" parameter now is the INSTANCE of the class, the unqiue\n",
    "        one with the ID that we want to create. We are now just adding\n",
    "        the necessary attributes.\n",
    "        \"\"\"\n",
    "\n",
    "        print(\">>> New instance: \", id(self))\n",
    "        print(\">>> Entering '__init__ method'\")\n",
    "\n",
    "        self.sequence = sequence  # Is now added to the class\n",
    "        self.gc_content = (sequence.count(\"G\") + sequence.count(\"C\")) / len(sequence)\n",
    "\n",
    "        print(f\"\\n#### Has attributes {self.__dict__}\\n\")"
   ]
  },
  {
   "cell_type": "code",
   "execution_count": null,
   "id": "aa878920-b22e-4d1c-bed4-30d620873ba1",
   "metadata": {},
   "outputs": [],
   "source": [
    "# Lets use the class and create a first instance\n",
    "sequence1 = DNASequence(sequence=\"ATGCGCG\")\n",
    "print(\"This is the ID of the instance in the variable: \", id(sequence1))"
   ]
  },
  {
   "cell_type": "code",
   "execution_count": null,
   "id": "679b4c71-1af2-4318-b80f-2e63f0e7ebb1",
   "metadata": {},
   "outputs": [],
   "source": [
    "# Lets do another one\n",
    "sequence2 = DNASequence(sequence=\"GCGCGGC\")\n",
    "print(\"This is the ID of the instance in the variable: \", id(sequence2))"
   ]
  },
  {
   "cell_type": "markdown",
   "id": "e6eb93a8-40a6-4cb3-b0cc-e13274005cfd",
   "metadata": {},
   "source": [
    "### Conclusion\n",
    "\n",
    "We have set up a `DNASequence` class, which in its essence is a blueprint of ...\n",
    "\n",
    "- What is needed to create a DNA Sequence object? --> Arguments of the `__init__`\n",
    "- How can we set up the attributes?\n",
    "    - Simple assignment from the argument to the attribute --> `self.sequence = sequence`\n",
    "    - Or do something with argument, where the result is assigned to an attribute --> `self.gc_content`\n",
    "    \n",
    "With this type of \"recursion\", we can now create `DNASequence` objects by passing the `sequence` argument and its appropriate value (the gene). In return we store the sequence of course, but we also calculate the GC content since we have specified this in our `__init__`-method.\n",
    "\n",
    "This is the power of object-oriented programming, because we can be explicit about what makes up a DNA sequence without the user having to do all these calculations for us. In addition, we could derive far more information and all the user has to do is pass a sequence. Ultimately, the user can now access all the attributes and do something nice with it.\n",
    "\n",
    "In the next seminar, you will learn how to extend the functionality of a class, by adding \"actions\" to it, which will turn a class into a multifunctional tool ⚙️"
   ]
  }
 ],
 "metadata": {
  "kernelspec": {
   "display_name": "Python 3 (ipykernel)",
   "language": "python",
   "name": "python3"
  },
  "language_info": {
   "codemirror_mode": {
    "name": "ipython",
    "version": 3
   },
   "file_extension": ".py",
   "mimetype": "text/x-python",
   "name": "python",
   "nbconvert_exporter": "python",
   "pygments_lexer": "ipython3",
   "version": "3.11.5"
  }
 },
 "nbformat": 4,
 "nbformat_minor": 5
}
