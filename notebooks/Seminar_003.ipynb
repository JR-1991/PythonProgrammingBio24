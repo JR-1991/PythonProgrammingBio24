{
 "cells": [
  {
   "cell_type": "markdown",
   "id": "b6a728b2-fc2f-40d4-ada3-a876cdac0999",
   "metadata": {},
   "source": [
    "# Seminar 003: Gathering sequence properties"
   ]
  },
  {
   "cell_type": "markdown",
   "id": "a8096bf6-a7f2-4345-91c1-e8ce8154646c",
   "metadata": {},
   "source": [
    "------"
   ]
  },
  {
   "cell_type": "markdown",
   "id": "0ecaf7e7-31a0-4e10-8e37-f4935402ce76",
   "metadata": {},
   "source": [
    "## Notes"
   ]
  },
  {
   "cell_type": "code",
   "execution_count": null,
   "id": "89dd4174-383d-49a5-8536-65e23ffe53cd",
   "metadata": {},
   "outputs": [],
   "source": []
  },
  {
   "cell_type": "markdown",
   "id": "1348f1b6-6263-46c6-87ae-a15755908d16",
   "metadata": {
    "tags": []
   },
   "source": [
    "## Functions"
   ]
  },
  {
   "cell_type": "markdown",
   "id": "a8a3c864-038d-4523-af7d-397d93ea5426",
   "metadata": {
    "tags": []
   },
   "source": [
    "### Why?"
   ]
  },
  {
   "cell_type": "code",
   "execution_count": null,
   "id": "a34fdf4c-b3cf-481e-97de-7ec0009ff94a",
   "metadata": {},
   "outputs": [],
   "source": [
    "import math\n",
    "\n",
    "# Task: Calculate the inverse square root of numbers 1 to 100\n",
    "\n",
    "number_1 = 1 / math.sqrt(1)\n",
    "number_2 = 1 / math.sqrt(2)\n",
    "number_3 = 1 / math.sqrt(3)\n",
    "number_4 = 1 / math.sqrt(4)\n",
    "number_5 = 1 / math.sqrt(5)\n",
    "\n",
    "# ... and so on\n",
    "\n",
    "# Copy and past or even re-writing can be quite faulty!\n",
    "# Dont let you trick from this simple example\n",
    "\n",
    "print(number_5)"
   ]
  },
  {
   "cell_type": "markdown",
   "id": "d9ce67f3-a97f-4ed3-95e1-5087067bf893",
   "metadata": {
    "tags": []
   },
   "source": [
    "### Use a function"
   ]
  },
  {
   "cell_type": "code",
   "execution_count": null,
   "id": "4ccb69c9-5609-4f7b-92ae-efebac6d7c05",
   "metadata": {},
   "outputs": [],
   "source": [
    "def get_inverse_square_root(number: int):\n",
    "    \"\"\"Calculates the inverse square root of a number\"\"\"\n",
    "\n",
    "    result = 1 / math.sqrt(number)\n",
    "\n",
    "    return result"
   ]
  },
  {
   "cell_type": "code",
   "execution_count": null,
   "id": "2e886021-3923-4cd1-9294-3aed9c8883ac",
   "metadata": {},
   "outputs": [],
   "source": [
    "inv_sqrt = get_inverse_square_root(19892)\n",
    "print(inv_sqrt)"
   ]
  },
  {
   "cell_type": "code",
   "execution_count": null,
   "id": "ab56392b-917c-4425-81e1-4842e0443a77",
   "metadata": {
    "tags": []
   },
   "outputs": [],
   "source": [
    "for i in range(1, 100):\n",
    "    inv_sqrt = get_inverse_square_root(i)\n",
    "    print(inv_sqrt)\n",
    "\n",
    "    # \"0.3456\\n\"\n",
    "    # do something else"
   ]
  },
  {
   "cell_type": "markdown",
   "id": "ccda41f5-7fa8-47dd-87e3-dd32be448db1",
   "metadata": {
    "tags": []
   },
   "source": [
    "### Reasons to use functions"
   ]
  },
  {
   "cell_type": "markdown",
   "id": "ef6639ce-0b6c-41b5-b15d-9501f85f6459",
   "metadata": {},
   "source": [
    "- __Define it once, use it everywhere__ - Re-usability across applications\n",
    "- __Reduce overhead code__ - Split complex code into a series of functions\n",
    "- __Standardize a process__ - Process A requires X,Y,Z and returns A,B,C\n",
    "- __Share your code__ - Functions can be imported from your scripts"
   ]
  },
  {
   "cell_type": "markdown",
   "id": "a742387c-4f56-47eb-b808-0c63832a73c0",
   "metadata": {
    "tags": []
   },
   "source": [
    "### Arguments and returns"
   ]
  },
  {
   "cell_type": "code",
   "execution_count": null,
   "id": "67f4c64b-c495-4ca8-9a8f-103cbba7eb7f",
   "metadata": {},
   "outputs": [],
   "source": [
    "# Functions can take input and return something\n",
    "def my_function(arguments):\n",
    "    # do something\n",
    "    print(\"Inside function has arguments: \", arguments)\n",
    "    return \"something\"\n",
    "\n",
    "returned= my_function(\"Hello\")\n",
    "print(\"Function returned: \", returned)"
   ]
  },
  {
   "cell_type": "markdown",
   "id": "f7f45267-ba90-436f-8477-19d1c269d80b",
   "metadata": {
    "tags": []
   },
   "source": [
    "### Understanding the variable scope"
   ]
  },
  {
   "cell_type": "code",
   "execution_count": null,
   "id": "591f930c-c65b-4520-8096-dc3d315f9cdd",
   "metadata": {},
   "outputs": [],
   "source": [
    "some_variable = \"Outside\"\n",
    "some_list = [1,2,3,3]\n",
    "another_variable = \"Outside\"\n",
    "\n",
    "def my_function(another_variable):\n",
    "    print(\"Calling non-argument variable: \", some_variable)\n",
    "    print(\"Calling argument variable: \", another_variable)\n",
    "\n",
    "    some_list.append(10)\n",
    "\n",
    "my_function(\"Inside\")\n",
    "print(\"Variable outside of function: \", another_variable)\n",
    "print(\"Changed variable: \", some_list)"
   ]
  },
  {
   "cell_type": "code",
   "execution_count": null,
   "id": "271469a0-c3d9-4832-9209-5a61521e1298",
   "metadata": {},
   "outputs": [],
   "source": [
    "def take_a_number(number: int):\n",
    "\n",
    "    if isinstance(number, int) is False:\n",
    "        raise TypeError(\"This requires a string!!!!\")\n",
    "\n",
    "    print(number)"
   ]
  },
  {
   "cell_type": "code",
   "execution_count": null,
   "id": "cc83a446-646b-412b-aa19-92d746359838",
   "metadata": {},
   "outputs": [],
   "source": [
    "take_a_number(10.0)"
   ]
  },
  {
   "cell_type": "markdown",
   "id": "9ae998b2-34a4-4c31-ac4e-3e58d3bf3f86",
   "metadata": {
    "tags": []
   },
   "source": [
    "### Tips on using functions"
   ]
  },
  {
   "cell_type": "markdown",
   "id": "c81e4155-87ae-4bc2-887b-8840e87cafd0",
   "metadata": {},
   "source": [
    "- Keep it simple, a function should only have one job.\n",
    "- Dont hesitate defining multiple small functions instead of a big one\n",
    "- Include at least a brief summary of what your function is doing\n",
    "- Think about generalization - How can my function be applied to deviating cases?\n",
    "- Put your functions in another script and import them to reduce overhead"
   ]
  }
 ],
 "metadata": {
  "kernelspec": {
   "display_name": "Python 3 (ipykernel)",
   "language": "python",
   "name": "python3"
  },
  "language_info": {
   "codemirror_mode": {
    "name": "ipython",
    "version": 3
   },
   "file_extension": ".py",
   "mimetype": "text/x-python",
   "name": "python",
   "nbconvert_exporter": "python",
   "pygments_lexer": "ipython3",
   "version": "3.11.5"
  }
 },
 "nbformat": 4,
 "nbformat_minor": 5
}
